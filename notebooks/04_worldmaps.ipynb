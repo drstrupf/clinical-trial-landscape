{
 "cells": [
  {
   "cell_type": "markdown",
   "metadata": {},
   "source": [
    "# Plot heatmap data on world maps from *Natural Earth*"
   ]
  },
  {
   "cell_type": "code",
   "execution_count": null,
   "metadata": {},
   "outputs": [],
   "source": [
    "%load_ext autoreload\n",
    "%autoreload 2"
   ]
  },
  {
   "cell_type": "code",
   "execution_count": null,
   "metadata": {},
   "outputs": [],
   "source": [
    "%load_ext blackcellmagic"
   ]
  },
  {
   "cell_type": "code",
   "execution_count": null,
   "metadata": {},
   "outputs": [],
   "source": [
    "import numpy as np\n",
    "import pandas as pd\n",
    "\n",
    "import geopandas as gpd\n",
    "\n",
    "import matplotlib.pyplot as plt\n",
    "import seaborn as sns\n",
    "sns.set(color_codes=True)\n",
    "sns.set_style(\"whitegrid\", {\"grid.color\": \"gainsboro\"})\n",
    "\n",
    "from tools import visualization"
   ]
  },
  {
   "cell_type": "markdown",
   "metadata": {},
   "source": [
    "## Load trial data"
   ]
  },
  {
   "cell_type": "code",
   "execution_count": null,
   "metadata": {},
   "outputs": [],
   "source": [
    "grouper_column_names = [\n",
    "    \"country_ISO\",\n",
    "    \"country_continent\",\n",
    "    \"subregion\",\n",
    "    \"economy_level\",\n",
    "    \"consolidated_economy_level\",\n",
    "    \"income_group\",\n",
    "    \"consolidated_income_group\",\n",
    "    \"hdi_category\",\n",
    "]"
   ]
  },
  {
   "cell_type": "code",
   "execution_count": null,
   "metadata": {},
   "outputs": [],
   "source": [
    "consolidated_counts_overall = {}\n",
    "for grouper_column_name in grouper_column_names:\n",
    "    consolidated_counts_overall[grouper_column_name] = pd.read_excel(\n",
    "        \"data/results/trials_sites_counts.xlsx\",\n",
    "        sheet_name=\"ovr_\" + grouper_column_name,\n",
    "    )"
   ]
  },
  {
   "cell_type": "code",
   "execution_count": null,
   "metadata": {},
   "outputs": [],
   "source": [
    "consolidated_counts_overall[\"country_continent\"]"
   ]
  },
  {
   "cell_type": "code",
   "execution_count": null,
   "metadata": {},
   "outputs": [],
   "source": [
    "consolidated_counts_per_phase = {}\n",
    "for grouper_column_name in grouper_column_names:\n",
    "    consolidated_counts_per_phase[grouper_column_name] = pd.read_excel(\n",
    "        \"data/results/trials_sites_counts.xlsx\",\n",
    "        sheet_name=\"phs_\" + grouper_column_name,\n",
    "    )"
   ]
  },
  {
   "cell_type": "code",
   "execution_count": null,
   "metadata": {},
   "outputs": [],
   "source": [
    "consolidated_counts_per_phase[\"country_continent\"].head()"
   ]
  },
  {
   "cell_type": "markdown",
   "metadata": {},
   "source": [
    "## Load and prepare geography data from naturalearth\n",
    "We need the country outlines to generate choropleth maps; download from https://www.naturalearthdata.com/."
   ]
  },
  {
   "cell_type": "code",
   "execution_count": null,
   "metadata": {},
   "outputs": [],
   "source": [
    "geo_data = gpd.read_file(\"data/source/naturalearth/110m_cultural/ne_110m_admin_0_countries.shx\")"
   ]
  },
  {
   "cell_type": "markdown",
   "metadata": {},
   "source": [
    "### Remove Antarctica and Seven seas\n",
    "We removed them from our original data set, and we omit them in the maps, too."
   ]
  },
  {
   "cell_type": "code",
   "execution_count": null,
   "metadata": {},
   "outputs": [],
   "source": [
    "geo_data = geo_data[\n",
    "    ~geo_data[\"CONTINENT\"].isin([\"Antarctica\", \"Seven seas (open ocean)\"])\n",
    "].copy()"
   ]
  },
  {
   "cell_type": "markdown",
   "metadata": {},
   "source": [
    "### Keep relevant columns and rename for convenience\n",
    "Socioeconomic data is already in our master data set, we just need the ISO code for mapping and the geometry data."
   ]
  },
  {
   "cell_type": "code",
   "execution_count": null,
   "metadata": {},
   "outputs": [],
   "source": [
    "geo_data = (\n",
    "    geo_data[\n",
    "        [\n",
    "            \"ADM0_A3\",\n",
    "            \"SUBREGION\",\n",
    "            \"geometry\",\n",
    "        ]\n",
    "    ]\n",
    "    .rename(\n",
    "        columns={\n",
    "            \"ADM0_A3\": \"country_ISO\",\n",
    "            \"SUBREGION\": \"subregion\",\n",
    "        }\n",
    "    )\n",
    "    .copy()\n",
    ")"
   ]
  },
  {
   "cell_type": "code",
   "execution_count": null,
   "metadata": {},
   "outputs": [],
   "source": [
    "geo_data.head()"
   ]
  },
  {
   "cell_type": "code",
   "execution_count": null,
   "metadata": {},
   "outputs": [],
   "source": [
    "len(geo_data)"
   ]
  },
  {
   "cell_type": "markdown",
   "metadata": {},
   "source": [
    "### Plot a world map as sanity check"
   ]
  },
  {
   "cell_type": "code",
   "execution_count": null,
   "metadata": {},
   "outputs": [],
   "source": [
    "fig, ax = plt.subplots(1, figsize=(10, 4))\n",
    "geo_data.plot(edgecolor=u\"white\", color=\"silver\", linewidth=0.25, ax=ax)\n",
    "sns.despine(bottom=True, top=True, left=True, right=True)\n",
    "fig.tight_layout()\n",
    "ax.set_xlim((-185, 185))\n",
    "ax.set_xticklabels([])\n",
    "ax.set_yticklabels([])\n",
    "ax.grid(False)\n",
    "plt.show()"
   ]
  },
  {
   "cell_type": "markdown",
   "metadata": {},
   "source": [
    "## Meta - plot population data on world map"
   ]
  },
  {
   "cell_type": "markdown",
   "metadata": {},
   "source": [
    "### Population"
   ]
  },
  {
   "cell_type": "code",
   "execution_count": null,
   "metadata": {},
   "outputs": [],
   "source": [
    "fig, ax = plt.subplots(1, figsize=(15, 15))\n",
    "\n",
    "g = visualization.plot_choropleth_map_country_level(\n",
    "    trial_data=consolidated_counts_overall[\"country_ISO\"],\n",
    "    column_to_plot=\"population_estimate\",\n",
    "    geometry_base_dataframe=geo_data,\n",
    "    log_scale=False,\n",
    "    log_scale_diverging_palette=False,\n",
    "    show_colorbar=True,\n",
    "    edgecolor=u\"white\",\n",
    "    edges_linewidth=0.25,\n",
    "    geometry_column_name=\"geometry\",\n",
    "    country_id_column_name=\"country_ISO\",\n",
    "    base_color=\"silver\",\n",
    "    base_edgecolor=u\"white\",\n",
    "    ax=ax,\n",
    ")\n",
    "g.set_title(\"Population estimate from Natural Earth data\")\n",
    "fig.tight_layout()\n",
    "plt.show()"
   ]
  },
  {
   "cell_type": "markdown",
   "metadata": {},
   "source": [
    "### Log of population"
   ]
  },
  {
   "cell_type": "code",
   "execution_count": null,
   "metadata": {},
   "outputs": [],
   "source": [
    "fig, ax = plt.subplots(1, figsize=(15, 15))\n",
    "\n",
    "g = visualization.plot_choropleth_map_country_level(\n",
    "    trial_data=consolidated_counts_overall[\"country_ISO\"],\n",
    "    column_to_plot=\"population_estimate\",\n",
    "    geometry_base_dataframe=geo_data,\n",
    "    log_scale=True,\n",
    "    log_scale_diverging_palette=False,\n",
    "    colormap_minimum_value=3,\n",
    "    colormap_maximum_value=10,\n",
    "    show_colorbar=True,\n",
    "    edgecolor=u\"black\",\n",
    "    edges_linewidth=0.25,\n",
    "    geometry_column_name=\"geometry\",\n",
    "    country_id_column_name=\"country_ISO\",\n",
    "    base_color=\"silver\",\n",
    "    base_edgecolor=u\"white\",\n",
    "    ax=None,\n",
    ")\n",
    "g.set_title(\"Population estimate from Natural Earth data, log-scaled\")\n",
    "fig.tight_layout()\n",
    "plt.show()"
   ]
  },
  {
   "cell_type": "markdown",
   "metadata": {},
   "source": [
    "### Log of population, alternative colormap"
   ]
  },
  {
   "cell_type": "code",
   "execution_count": null,
   "metadata": {},
   "outputs": [],
   "source": [
    "fig, ax = plt.subplots(1, figsize=(15, 15))\n",
    "\n",
    "g = visualization.plot_choropleth_map_country_level(\n",
    "    trial_data=consolidated_counts_overall[\"country_ISO\"],\n",
    "    column_to_plot=\"population_estimate\",\n",
    "    geometry_base_dataframe=geo_data,\n",
    "    log_scale=True,\n",
    "    log_scale_diverging_palette=True,\n",
    "    colormap_minimum_value=3,\n",
    "    colormap_maximum_value=10,\n",
    "    diverging_palette=\"RdBu\",\n",
    "    show_colorbar=True,\n",
    "    edgecolor=u\"black\",\n",
    "    edges_linewidth=0.25,\n",
    "    geometry_column_name=\"geometry\",\n",
    "    country_id_column_name=\"country_ISO\",\n",
    "    base_color=\"silver\",\n",
    "    base_edgecolor=u\"white\",\n",
    "    ax=None,\n",
    ")\n",
    "g.set_title(\"Population estimate from Natural Earth data, log-scaled\")\n",
    "fig.tight_layout()\n",
    "plt.show()"
   ]
  },
  {
   "cell_type": "markdown",
   "metadata": {},
   "source": [
    "## Plot overall trial counts"
   ]
  },
  {
   "cell_type": "markdown",
   "metadata": {},
   "source": [
    "### Trials per country"
   ]
  },
  {
   "cell_type": "code",
   "execution_count": null,
   "metadata": {},
   "outputs": [],
   "source": [
    "fig, ax = plt.subplots(1, figsize=(15, 15))\n",
    "\n",
    "g = visualization.plot_choropleth_map_country_level(\n",
    "    trial_data=consolidated_counts_overall[\"country_ISO\"],\n",
    "    column_to_plot=\"n_trials\",\n",
    "    log_scale=False,\n",
    "    log_scale_diverging_palette=False,\n",
    "    show_colorbar=True,\n",
    "    edgecolor=u\"black\",\n",
    "    edges_linewidth=0.25,\n",
    "    geometry_base_dataframe=geo_data,\n",
    "    geometry_column_name=\"geometry\",\n",
    "    country_id_column_name=\"country_ISO\",\n",
    "    base_color=\"silver\",\n",
    "    base_edgecolor=u\"white\",\n",
    "    ax=None,\n",
    ")\n",
    "g.set_title(\"Industry funded interventional drug trials in MS from clinicaltrials.gov, 1994 - 2023 - number of studies with at least 1 site in a given country\")\n",
    "fig.tight_layout()\n",
    "plt.show()"
   ]
  },
  {
   "cell_type": "markdown",
   "metadata": {},
   "source": [
    "### Trials per country per capita"
   ]
  },
  {
   "cell_type": "code",
   "execution_count": null,
   "metadata": {},
   "outputs": [],
   "source": [
    "fig, ax = plt.subplots(1, figsize=(15, 15))\n",
    "\n",
    "g = visualization.plot_choropleth_map_country_level(\n",
    "    trial_data=consolidated_counts_overall[\"country_ISO\"],\n",
    "    column_to_plot=\"trials_per_capita\",\n",
    "    log_scale=False,\n",
    "    log_scale_diverging_palette=False,\n",
    "    show_colorbar=True,\n",
    "    edgecolor=u\"black\",\n",
    "    edges_linewidth=0.25,\n",
    "    geometry_base_dataframe=geo_data,\n",
    "    geometry_column_name=\"geometry\",\n",
    "    country_id_column_name=\"country_ISO\",\n",
    "    base_color=\"silver\",\n",
    "    base_edgecolor=u\"white\",\n",
    "    ax=None,\n",
    ")\n",
    "g.set_title(\"Industry funded interventional drug trials per capita in MS from clinicaltrials.gov, 1994 - 2023\")\n",
    "fig.tight_layout()\n",
    "plt.show()"
   ]
  },
  {
   "cell_type": "markdown",
   "metadata": {},
   "source": [
    "### Trials per country per capita, log"
   ]
  },
  {
   "cell_type": "code",
   "execution_count": null,
   "metadata": {},
   "outputs": [],
   "source": [
    "fig, ax = plt.subplots(1, figsize=(15, 15))\n",
    "\n",
    "g = visualization.plot_choropleth_map_country_level(\n",
    "    trial_data=consolidated_counts_overall[\"country_ISO\"],\n",
    "    column_to_plot=\"trials_per_capita\",\n",
    "    log_scale=True,\n",
    "    log_scale_diverging_palette=False,\n",
    "    show_colorbar=True,\n",
    "    edgecolor=u\"black\",\n",
    "    edges_linewidth=0.25,\n",
    "    geometry_base_dataframe=geo_data,\n",
    "    geometry_column_name=\"geometry\",\n",
    "    country_id_column_name=\"country_ISO\",\n",
    "    base_color=\"silver\",\n",
    "    base_edgecolor=u\"white\",\n",
    "    ax=None,\n",
    ")\n",
    "g.set_title(\"Industry funded interventional drug trials per capita in MS from clinicaltrials.gov, 1994 - 2023, log-scaled\")\n",
    "fig.tight_layout()\n",
    "plt.show()"
   ]
  },
  {
   "cell_type": "markdown",
   "metadata": {},
   "source": [
    "### Trials per country per capita, log - alternative colormap"
   ]
  },
  {
   "cell_type": "code",
   "execution_count": null,
   "metadata": {},
   "outputs": [],
   "source": [
    "fig, ax = plt.subplots(1, figsize=(15, 15))\n",
    "\n",
    "g = visualization.plot_choropleth_map_country_level(\n",
    "    trial_data=consolidated_counts_overall[\"country_ISO\"],\n",
    "    column_to_plot=\"trials_per_capita\",\n",
    "    log_scale=True,\n",
    "    log_scale_diverging_palette=True,\n",
    "    diverging_palette=\"RdBu\",\n",
    "    colormap_minimum_value=None,\n",
    "    colormap_maximum_value=None,\n",
    "    show_colorbar=True,\n",
    "    edgecolor=u\"black\",\n",
    "    edges_linewidth=0.25,\n",
    "    geometry_base_dataframe=geo_data,\n",
    "    geometry_column_name=\"geometry\",\n",
    "    country_id_column_name=\"country_ISO\",\n",
    "    base_color=\"silver\",\n",
    "    base_edgecolor=u\"white\",\n",
    "    ax=None,\n",
    ")\n",
    "g.set_title(\"Industry funded interventional drug trials per capita in MS from clinicaltrials.gov, 1994 - 2023, log-scaled\")\n",
    "fig.tight_layout()\n",
    "plt.show()"
   ]
  },
  {
   "cell_type": "markdown",
   "metadata": {},
   "source": [
    "### Log-disproportionality"
   ]
  },
  {
   "cell_type": "code",
   "execution_count": null,
   "metadata": {},
   "outputs": [],
   "source": [
    "fig, ax = plt.subplots(1, figsize=(15, 15))\n",
    "\n",
    "g = visualization.plot_choropleth_map_country_level(\n",
    "    trial_data=consolidated_counts_overall[\"country_ISO\"],\n",
    "    column_to_plot=\"factor_deviation_n_trials_from_expected\",\n",
    "    log_scale=True,\n",
    "    log_scale_diverging_palette=True,\n",
    "    colormap_minimum_value=-1,\n",
    "    colormap_maximum_value=3,\n",
    "    show_colorbar=True,\n",
    "    edgecolor=u\"black\",\n",
    "    edges_linewidth=0.25,\n",
    "    geometry_base_dataframe=geo_data,\n",
    "    geometry_column_name=\"geometry\",\n",
    "    country_id_column_name=\"country_ISO\",\n",
    "    base_color=\"silver\",\n",
    "    base_edgecolor=u\"white\",\n",
    "    ax=None,\n",
    ")\n",
    "g.set_title(\"Log-disproportionality of number of actual trials vs. expected number of trials based on population\")\n",
    "fig.tight_layout()\n",
    "plt.show()"
   ]
  },
  {
   "cell_type": "markdown",
   "metadata": {},
   "source": [
    "## Plot overall site counts"
   ]
  },
  {
   "cell_type": "markdown",
   "metadata": {},
   "source": [
    "### Trial sites per country"
   ]
  },
  {
   "cell_type": "code",
   "execution_count": null,
   "metadata": {},
   "outputs": [],
   "source": [
    "fig, ax = plt.subplots(1, figsize=(15, 15))\n",
    "\n",
    "g = visualization.plot_choropleth_map_country_level(\n",
    "    trial_data=consolidated_counts_overall[\"country_ISO\"],\n",
    "    column_to_plot=\"n_sites\",\n",
    "    log_scale=False,\n",
    "    log_scale_diverging_palette=False,\n",
    "    show_colorbar=True,\n",
    "    edgecolor=u\"black\",\n",
    "    edges_linewidth=0.25,\n",
    "    geometry_base_dataframe=geo_data,\n",
    "    geometry_column_name=\"geometry\",\n",
    "    country_id_column_name=\"country_ISO\",\n",
    "    base_color=\"silver\",\n",
    "    base_edgecolor=u\"white\",\n",
    "    ax=None,\n",
    ")\n",
    "g.set_title(\"Industry funded interventional drug trials in MS from clinicaltrials.gov, 1994 - 2023 - number of trial sites\")\n",
    "fig.tight_layout()\n",
    "plt.show()"
   ]
  },
  {
   "cell_type": "markdown",
   "metadata": {},
   "source": [
    "### Trial sites per country per capita"
   ]
  },
  {
   "cell_type": "code",
   "execution_count": null,
   "metadata": {},
   "outputs": [],
   "source": [
    "fig, ax = plt.subplots(1, figsize=(15, 15))\n",
    "\n",
    "g = visualization.plot_choropleth_map_country_level(\n",
    "    trial_data=consolidated_counts_overall[\"country_ISO\"],\n",
    "    column_to_plot=\"sites_per_capita\",\n",
    "    log_scale=False,\n",
    "    log_scale_diverging_palette=False,\n",
    "    show_colorbar=True,\n",
    "    edgecolor=u\"black\",\n",
    "    edges_linewidth=0.25,\n",
    "    geometry_base_dataframe=geo_data,\n",
    "    geometry_column_name=\"geometry\",\n",
    "    country_id_column_name=\"country_ISO\",\n",
    "    base_color=\"silver\",\n",
    "    base_edgecolor=u\"white\",\n",
    "    ax=None,\n",
    ")\n",
    "g.set_title(\"Industry funded interventional drug trials in MS from clinicaltrials.gov, 1994 - 2023 - trial sites per capita\")\n",
    "fig.tight_layout()\n",
    "plt.show()"
   ]
  },
  {
   "cell_type": "markdown",
   "metadata": {},
   "source": [
    "### Trials per country per capita, log"
   ]
  },
  {
   "cell_type": "code",
   "execution_count": null,
   "metadata": {},
   "outputs": [],
   "source": [
    "fig, ax = plt.subplots(1, figsize=(15, 15))\n",
    "\n",
    "g = visualization.plot_choropleth_map_country_level(\n",
    "    trial_data=consolidated_counts_overall[\"country_ISO\"],\n",
    "    column_to_plot=\"sites_per_capita\",\n",
    "    log_scale=True,\n",
    "    log_scale_diverging_palette=False,\n",
    "    show_colorbar=True,\n",
    "    edgecolor=u\"black\",\n",
    "    edges_linewidth=0.25,\n",
    "    geometry_base_dataframe=geo_data,\n",
    "    geometry_column_name=\"geometry\",\n",
    "    country_id_column_name=\"country_ISO\",\n",
    "    base_color=\"silver\",\n",
    "    base_edgecolor=u\"white\",\n",
    "    ax=None,\n",
    ")\n",
    "g.set_title(\"Industry funded interventional drug trials in MS from clinicaltrials.gov, 1994 - 2023 - trial sites per capita, log-scaled\")\n",
    "fig.tight_layout()\n",
    "plt.show()"
   ]
  },
  {
   "cell_type": "markdown",
   "metadata": {},
   "source": [
    "### Trials per country per capita, log - alternative colormap"
   ]
  },
  {
   "cell_type": "code",
   "execution_count": null,
   "metadata": {},
   "outputs": [],
   "source": [
    "fig, ax = plt.subplots(1, figsize=(15, 15))\n",
    "\n",
    "g = visualization.plot_choropleth_map_country_level(\n",
    "    trial_data=consolidated_counts_overall[\"country_ISO\"],\n",
    "    column_to_plot=\"sites_per_capita\",\n",
    "    log_scale=True,\n",
    "    log_scale_diverging_palette=True,\n",
    "    diverging_palette=\"RdBu\",\n",
    "    show_colorbar=True,\n",
    "    edgecolor=u\"black\",\n",
    "    edges_linewidth=0.25,\n",
    "    geometry_base_dataframe=geo_data,\n",
    "    geometry_column_name=\"geometry\",\n",
    "    country_id_column_name=\"country_ISO\",\n",
    "    base_color=\"silver\",\n",
    "    base_edgecolor=u\"white\",\n",
    "    ax=None,\n",
    ")\n",
    "g.set_title(\"Industry funded interventional drug trials in MS from clinicaltrials.gov, 1994 - 2023 - trial sites per capita, log-scaled\")\n",
    "fig.tight_layout()\n",
    "plt.show()"
   ]
  },
  {
   "cell_type": "markdown",
   "metadata": {},
   "source": [
    "### Log-disproportionality"
   ]
  },
  {
   "cell_type": "code",
   "execution_count": null,
   "metadata": {},
   "outputs": [],
   "source": [
    "fig, ax = plt.subplots(1, figsize=(15, 15))\n",
    "\n",
    "g = visualization.plot_choropleth_map_country_level(\n",
    "    trial_data=consolidated_counts_overall[\"country_ISO\"],\n",
    "    column_to_plot=\"factor_deviation_n_sites_from_expected\",\n",
    "    log_scale=True,\n",
    "    log_scale_diverging_palette=True,\n",
    "    colormap_minimum_value=-2.5,\n",
    "    colormap_maximum_value=1.5,\n",
    "    show_colorbar=True,\n",
    "    edgecolor=u\"black\",\n",
    "    edges_linewidth=0.25,\n",
    "    geometry_base_dataframe=geo_data,\n",
    "    geometry_column_name=\"geometry\",\n",
    "    country_id_column_name=\"country_ISO\",\n",
    "    base_color=\"silver\",\n",
    "    base_edgecolor=u\"white\",\n",
    "    ax=None,\n",
    ")\n",
    "g.set_title(\"Log-disproportionality of actual number of trial sites vs. expected number of trial sites based on population\")\n",
    "fig.tight_layout()\n",
    "plt.show()"
   ]
  },
  {
   "cell_type": "markdown",
   "metadata": {},
   "source": [
    "## 4 x 4 plots with counts per phase"
   ]
  },
  {
   "cell_type": "code",
   "execution_count": null,
   "metadata": {},
   "outputs": [],
   "source": [
    "phase_country_data = consolidated_counts_per_phase[\"country_ISO\"]"
   ]
  },
  {
   "cell_type": "markdown",
   "metadata": {},
   "source": [
    "### Trial sites per capita"
   ]
  },
  {
   "cell_type": "code",
   "execution_count": null,
   "metadata": {},
   "outputs": [],
   "source": [
    "fig, axes = plt.subplots(2, 2, figsize=(24, 10))\n",
    "\n",
    "for i in range(1, 5):\n",
    "\n",
    "    visualization.plot_choropleth_map_country_level(\n",
    "        trial_data=phase_country_data[phase_country_data[\"phase\"] == \"PHASE\" + str(i)],\n",
    "        column_to_plot=\"sites_per_capita\",\n",
    "        log_scale=False,\n",
    "        log_scale_diverging_palette=False,\n",
    "        show_colorbar=False,\n",
    "        edgecolor=u\"black\",\n",
    "        edges_linewidth=0.25,\n",
    "        geometry_base_dataframe=geo_data,\n",
    "        geometry_column_name=\"geometry\",\n",
    "        country_id_column_name=\"country_ISO\",\n",
    "        base_color=\"silver\",\n",
    "        base_edgecolor=u\"white\",\n",
    "        ax=axes[(i - 1) // 2][(i - 1) % 2],\n",
    "    )\n",
    "    axes[(i - 1) // 2][(i - 1) % 2].set_title(\n",
    "        \"ABCD\"[i - 1] + \") Phase \" + str(i) + \", trial sites per capita\", fontsize=14\n",
    "    )\n",
    "\n",
    "fig.tight_layout()\n",
    "plt.show()"
   ]
  },
  {
   "cell_type": "markdown",
   "metadata": {},
   "source": [
    "### Trial sites per capita with standardized colormap"
   ]
  },
  {
   "cell_type": "code",
   "execution_count": null,
   "metadata": {},
   "outputs": [],
   "source": [
    "min(phase_country_data[\"sites_per_capita\"]), max(phase_country_data[\"sites_per_capita\"])"
   ]
  },
  {
   "cell_type": "code",
   "execution_count": null,
   "metadata": {},
   "outputs": [],
   "source": [
    "fig, axes = plt.subplots(2, 2, figsize=(24, 10))\n",
    "\n",
    "colormap_min = min(phase_country_data[\"sites_per_capita\"])\n",
    "colormap_max = max(phase_country_data[\"sites_per_capita\"])\n",
    "\n",
    "for i in range(1, 5):\n",
    "\n",
    "    visualization.plot_choropleth_map_country_level(\n",
    "        trial_data=phase_country_data[phase_country_data[\"phase\"] == \"PHASE\" + str(i)],\n",
    "        column_to_plot=\"sites_per_capita\",\n",
    "        log_scale=False,\n",
    "        log_scale_diverging_palette=False,\n",
    "        colormap_minimum_value=colormap_min,\n",
    "        colormap_maximum_value=colormap_max,\n",
    "        show_colorbar=True,\n",
    "        edgecolor=u\"black\",\n",
    "        edges_linewidth=0.25,\n",
    "        geometry_base_dataframe=geo_data,\n",
    "        geometry_column_name=\"geometry\",\n",
    "        country_id_column_name=\"country_ISO\",\n",
    "        base_color=\"silver\",\n",
    "        base_edgecolor=u\"white\",\n",
    "        ax=axes[(i - 1) // 2][(i - 1) % 2],\n",
    "    )\n",
    "    axes[(i - 1) // 2][(i - 1) % 2].set_title(\n",
    "        \"ABCD\"[i - 1] + \") Phase \" + str(i) + \", trial sites per capita\", fontsize=14\n",
    "    )\n",
    "\n",
    "fig.tight_layout()\n",
    "plt.show()"
   ]
  },
  {
   "cell_type": "markdown",
   "metadata": {},
   "source": [
    "### Trial sites per capita, log"
   ]
  },
  {
   "cell_type": "code",
   "execution_count": null,
   "metadata": {},
   "outputs": [],
   "source": [
    "fig, axes = plt.subplots(2, 2, figsize=(24, 10))\n",
    "\n",
    "for i in range(1, 5):\n",
    "\n",
    "    visualization.plot_choropleth_map_country_level(\n",
    "        trial_data=phase_country_data[phase_country_data[\"phase\"] == \"PHASE\" + str(i)],\n",
    "        column_to_plot=\"sites_per_capita\",\n",
    "        log_scale=True,\n",
    "        log_scale_diverging_palette=False,\n",
    "        show_colorbar=False,\n",
    "        edgecolor=u\"black\",\n",
    "        edges_linewidth=0.25,\n",
    "        geometry_base_dataframe=geo_data,\n",
    "        geometry_column_name=\"geometry\",\n",
    "        country_id_column_name=\"country_ISO\",\n",
    "        base_color=\"silver\",\n",
    "        base_edgecolor=u\"white\",\n",
    "        ax=axes[(i - 1) // 2][(i - 1) % 2],\n",
    "    )\n",
    "    axes[(i - 1) // 2][(i - 1) % 2].set_title(\n",
    "        \"ABCD\"[i - 1] + \") Phase \" + str(i) + \", trial sites per capita, log-scaled\",\n",
    "        fontsize=14,\n",
    "    )\n",
    "\n",
    "fig.tight_layout()\n",
    "plt.show()"
   ]
  },
  {
   "cell_type": "markdown",
   "metadata": {},
   "source": [
    "### Trial sites per capita, log with normalized colormap"
   ]
  },
  {
   "cell_type": "code",
   "execution_count": null,
   "metadata": {},
   "outputs": [],
   "source": [
    "colormap_min = min(\n",
    "    np.log10(\n",
    "        phase_country_data[phase_country_data[\"sites_per_capita\"] > 0][\n",
    "            \"sites_per_capita\"\n",
    "        ]\n",
    "    )\n",
    ")\n",
    "colormap_max = max(\n",
    "    np.log10(\n",
    "        phase_country_data[phase_country_data[\"sites_per_capita\"] > 0][\n",
    "            \"sites_per_capita\"\n",
    "        ]\n",
    "    )\n",
    ")\n",
    "\n",
    "fig, axes = plt.subplots(2, 2, figsize=(24, 10))\n",
    "\n",
    "for i in range(1, 5):\n",
    "\n",
    "    visualization.plot_choropleth_map_country_level(\n",
    "        trial_data=phase_country_data[phase_country_data[\"phase\"] == \"PHASE\" + str(i)],\n",
    "        column_to_plot=\"sites_per_capita\",\n",
    "        log_scale=True,\n",
    "        log_scale_diverging_palette=False,\n",
    "        colormap_minimum_value=colormap_min,\n",
    "        colormap_maximum_value=colormap_max,\n",
    "        show_colorbar=True,\n",
    "        edgecolor=u\"black\",\n",
    "        edges_linewidth=0.25,\n",
    "        geometry_base_dataframe=geo_data,\n",
    "        geometry_column_name=\"geometry\",\n",
    "        country_id_column_name=\"country_ISO\",\n",
    "        base_color=\"silver\",\n",
    "        base_edgecolor=u\"white\",\n",
    "        ax=axes[(i - 1) // 2][(i - 1) % 2],\n",
    "    )\n",
    "    axes[(i - 1) // 2][(i - 1) % 2].set_title(\n",
    "        \"ABCD\"[i - 1] + \") Phase \" + str(i) + \", trial sites per capita, log-scaled\",\n",
    "        fontsize=14,\n",
    "    )\n",
    "\n",
    "fig.tight_layout()\n",
    "plt.show()"
   ]
  },
  {
   "cell_type": "markdown",
   "metadata": {},
   "source": [
    "### Log-disproportionality of trial sites"
   ]
  },
  {
   "cell_type": "code",
   "execution_count": null,
   "metadata": {},
   "outputs": [],
   "source": [
    "fig, axes = plt.subplots(2, 2, figsize=(24, 10))\n",
    "\n",
    "for i in range(1, 5):\n",
    "\n",
    "    visualization.plot_choropleth_map_country_level(\n",
    "        trial_data=phase_country_data[phase_country_data[\"phase\"] == \"PHASE\" + str(i)],\n",
    "        column_to_plot=\"factor_deviation_n_sites_from_expected\",\n",
    "        log_scale=True,\n",
    "        log_scale_diverging_palette=True,\n",
    "        show_colorbar=False,\n",
    "        edgecolor=u\"black\",\n",
    "        edges_linewidth=0.25,\n",
    "        geometry_base_dataframe=geo_data,\n",
    "        geometry_column_name=\"geometry\",\n",
    "        country_id_column_name=\"country_ISO\",\n",
    "        base_color=\"silver\",\n",
    "        base_edgecolor=u\"white\",\n",
    "        ax=axes[(i - 1) // 2][(i - 1) % 2],\n",
    "    )\n",
    "    axes[(i - 1) // 2][(i - 1) % 2].set_title(\n",
    "        \"ABCD\"[i - 1]\n",
    "        + \") Phase \"\n",
    "        + str(i)\n",
    "        + \", log-disproportionality of actual number of trial sites vs. expected number of trial sites based on population\",\n",
    "        fontsize=14,\n",
    "    )\n",
    "\n",
    "fig.tight_layout()\n",
    "plt.show()"
   ]
  },
  {
   "cell_type": "markdown",
   "metadata": {},
   "source": [
    "### Log-disproportionality of trial sites - automatic colorbars"
   ]
  },
  {
   "cell_type": "code",
   "execution_count": null,
   "metadata": {},
   "outputs": [],
   "source": [
    "fig, axes = plt.subplots(2, 2, figsize=(24, 10))\n",
    "\n",
    "for i in range(1, 5):\n",
    "\n",
    "    visualization.plot_choropleth_map_country_level(\n",
    "        trial_data=phase_country_data[phase_country_data[\"phase\"] == \"PHASE\" + str(i)],\n",
    "        column_to_plot=\"factor_deviation_n_sites_from_expected\",\n",
    "        log_scale=True,\n",
    "        log_scale_diverging_palette=True,\n",
    "        show_colorbar=True,\n",
    "        edgecolor=u\"black\",\n",
    "        edges_linewidth=0.25,\n",
    "        geometry_base_dataframe=geo_data,\n",
    "        geometry_column_name=\"geometry\",\n",
    "        country_id_column_name=\"country_ISO\",\n",
    "        base_color=\"silver\",\n",
    "        base_edgecolor=u\"white\",\n",
    "        ax=axes[(i - 1) // 2][(i - 1) % 2],\n",
    "    )\n",
    "    axes[(i - 1) // 2][(i - 1) % 2].set_title(\n",
    "        \"ABCD\"[i - 1]\n",
    "        + \") Phase \"\n",
    "        + str(i)\n",
    "        + \", log-disproportionality of actual number of trial sites vs. expected number of trial sites based on population\",\n",
    "        fontsize=14,\n",
    "    )\n",
    "\n",
    "fig.tight_layout()\n",
    "plt.show()"
   ]
  },
  {
   "cell_type": "markdown",
   "metadata": {},
   "source": [
    "### Log-disproportionality of trial sites - standardized colormap"
   ]
  },
  {
   "cell_type": "code",
   "execution_count": null,
   "metadata": {},
   "outputs": [],
   "source": [
    "colormap_min = -2.5\n",
    "colormap_max = 1.5\n",
    "\n",
    "fig, axes = plt.subplots(2, 2, figsize=(24, 10))\n",
    "\n",
    "for i in range(1, 5):\n",
    "\n",
    "    visualization.plot_choropleth_map_country_level(\n",
    "        trial_data=phase_country_data[phase_country_data[\"phase\"] == \"PHASE\" + str(i)],\n",
    "        column_to_plot=\"factor_deviation_n_sites_from_expected\",\n",
    "        log_scale=True,\n",
    "        log_scale_diverging_palette=True,\n",
    "        colormap_minimum_value=colormap_min,\n",
    "        colormap_maximum_value=colormap_max,\n",
    "        show_colorbar=True,\n",
    "        edgecolor=u\"black\",\n",
    "        edges_linewidth=0.25,\n",
    "        geometry_base_dataframe=geo_data,\n",
    "        geometry_column_name=\"geometry\",\n",
    "        country_id_column_name=\"country_ISO\",\n",
    "        base_color=\"silver\",\n",
    "        base_edgecolor=u\"white\",\n",
    "        ax=axes[(i - 1) // 2][(i - 1) % 2],\n",
    "    )\n",
    "    axes[(i - 1) // 2][(i - 1) % 2].set_title(\n",
    "        \"ABCD\"[i - 1]\n",
    "        + \") Phase \"\n",
    "        + str(i)\n",
    "        + \", log-disproportionality of actual number of trial sites vs. expected number of trial sites based on population\",\n",
    "        fontsize=14,\n",
    "    )\n",
    "\n",
    "fig.tight_layout()\n",
    "plt.show()"
   ]
  },
  {
   "cell_type": "markdown",
   "metadata": {},
   "source": [
    "## Plot regions instead of single countries"
   ]
  },
  {
   "cell_type": "code",
   "execution_count": null,
   "metadata": {},
   "outputs": [],
   "source": [
    "regional_data_overall = consolidated_counts_overall[\"subregion\"].copy()"
   ]
  },
  {
   "cell_type": "code",
   "execution_count": null,
   "metadata": {},
   "outputs": [],
   "source": [
    "regional_data_overall.head()"
   ]
  },
  {
   "cell_type": "code",
   "execution_count": null,
   "metadata": {},
   "outputs": [],
   "source": [
    "regional_data_overall = pd.merge(left=geo_data[[\"country_ISO\", \"subregion\"]], right=regional_data_overall, on=\"subregion\", how=\"left\")"
   ]
  },
  {
   "cell_type": "code",
   "execution_count": null,
   "metadata": {},
   "outputs": [],
   "source": [
    "fig, ax = plt.subplots(1, figsize=(15, 15))\n",
    "\n",
    "g = visualization.plot_choropleth_map_country_level(\n",
    "    trial_data=regional_data_overall,\n",
    "    column_to_plot=\"n_trials\",\n",
    "    log_scale=False,\n",
    "    drop_zeros=False,\n",
    "    log_scale_diverging_palette=False,\n",
    "    show_colorbar=True,\n",
    "    edgecolor=u\"black\",\n",
    "    edges_linewidth=0.25,\n",
    "    geometry_base_dataframe=geo_data,\n",
    "    geometry_column_name=\"geometry\",\n",
    "    country_id_column_name=\"country_ISO\",\n",
    "    base_color=\"silver\",\n",
    "    base_edgecolor=u\"white\",\n",
    "    ax=None,\n",
    ")\n",
    "g.set_title(\"Industry funded interventional drug trials in MS from clinicaltrials.gov, 1994 - 2023 - number of studies with at least 1 site in a given region\")\n",
    "fig.tight_layout()\n",
    "plt.show()"
   ]
  },
  {
   "cell_type": "code",
   "execution_count": null,
   "metadata": {},
   "outputs": [],
   "source": [
    "fig, ax = plt.subplots(1, figsize=(15, 15))\n",
    "\n",
    "g = visualization.plot_choropleth_map_country_level(\n",
    "    data=regional_data_overall,\n",
    "    column_to_plot=\"sites_per_capita\",\n",
    "    log_scale=False,\n",
    "    drop_zeros=False,\n",
    "    log_scale_divergent_palette=False,\n",
    "    show_colorbar=True,\n",
    "    edgecolor=u\"black\",\n",
    "    edges_linewidth=0.25,\n",
    "    geometry_base_dataframe=geo_data,\n",
    "    geometry_column_name=\"geometry\",\n",
    "    country_id_column_name=\"country_ISO\",\n",
    "    base_color=\"silver\",\n",
    "    base_edgecolor=u\"white\",\n",
    "    ax=None,\n",
    ")\n",
    "g.set_title(\"Trial sites per capita\")\n",
    "fig.tight_layout()\n",
    "plt.show()"
   ]
  },
  {
   "cell_type": "code",
   "execution_count": null,
   "metadata": {},
   "outputs": [],
   "source": [
    "fig, ax = plt.subplots(1, figsize=(15, 15))\n",
    "\n",
    "colormap_min = -9\n",
    "colormap_max = -4.5\n",
    "\n",
    "g = visualization.plot_choropleth_map_country_level(\n",
    "    trial_data=regional_data_overall,\n",
    "    column_to_plot=\"sites_per_capita\",\n",
    "    log_scale=True,\n",
    "    drop_zeros=True,\n",
    "    log_scale_diverging_palette=False,\n",
    "    colormap_minimum_value=colormap_min,\n",
    "    colormap_maximum_value=colormap_max,\n",
    "    show_colorbar=True,\n",
    "    edgecolor=u\"black\",\n",
    "    edges_linewidth=0.25,\n",
    "    geometry_base_dataframe=geo_data,\n",
    "    geometry_column_name=\"geometry\",\n",
    "    country_id_column_name=\"country_ISO\",\n",
    "    base_color=\"silver\",\n",
    "    base_edgecolor=u\"white\",\n",
    "    ax=None,\n",
    ")\n",
    "g.set_title(\"Trial sites per capita, log-scaled\")\n",
    "fig.tight_layout()\n",
    "plt.show()"
   ]
  },
  {
   "cell_type": "code",
   "execution_count": null,
   "metadata": {},
   "outputs": [],
   "source": [
    "fig, ax = plt.subplots(1, figsize=(15, 15))\n",
    "\n",
    "colormap_min = -1.5\n",
    "colormap_max = 2.5\n",
    "\n",
    "g = visualization.plot_choropleth_map_country_level(\n",
    "    trial_data=regional_data_overall,\n",
    "    column_to_plot=\"factor_deviation_n_trials_from_expected\",\n",
    "    log_scale=True,\n",
    "    drop_zeros=True,\n",
    "    log_scale_diverging_palette=True,\n",
    "    colormap_minimum_value=colormap_min,\n",
    "    colormap_maximum_value=colormap_max,\n",
    "    show_colorbar=True,\n",
    "    edgecolor=u\"black\",\n",
    "    edges_linewidth=0.25,\n",
    "    geometry_base_dataframe=geo_data,\n",
    "    geometry_column_name=\"geometry\",\n",
    "    country_id_column_name=\"country_ISO\",\n",
    "    base_color=\"silver\",\n",
    "    base_edgecolor=u\"white\",\n",
    "    ax=None,\n",
    ")\n",
    "g.set_title(\"Log-disproportionality of number of trials\")\n",
    "fig.tight_layout()\n",
    "plt.show()"
   ]
  },
  {
   "cell_type": "code",
   "execution_count": null,
   "metadata": {},
   "outputs": [],
   "source": [
    "fig, ax = plt.subplots(1, figsize=(15, 15))\n",
    "\n",
    "colormap_min = -4\n",
    "colormap_max = 1\n",
    "\n",
    "g = visualization.plot_choropleth_map_country_level(\n",
    "    trial_data=regional_data_overall,\n",
    "    column_to_plot=\"factor_deviation_n_sites_from_expected\",\n",
    "    log_scale=True,\n",
    "    drop_zeros=True,\n",
    "    log_scale_diverging_palette=True,\n",
    "    colormap_minimum_value=colormap_min,\n",
    "    colormap_maximum_value=colormap_max,\n",
    "    show_colorbar=True,\n",
    "    edgecolor=u\"black\",\n",
    "    edges_linewidth=0.25,\n",
    "    geometry_base_dataframe=geo_data,\n",
    "    geometry_column_name=\"geometry\",\n",
    "    country_id_column_name=\"country_ISO\",\n",
    "    base_color=\"silver\",\n",
    "    base_edgecolor=u\"white\",\n",
    "    ax=None,\n",
    ")\n",
    "g.set_title(\"Log-disproportionality of number of trial sites\")\n",
    "fig.tight_layout()\n",
    "plt.show()"
   ]
  }
 ],
 "metadata": {
  "kernelspec": {
   "display_name": "geography",
   "language": "python",
   "name": "python3"
  },
  "language_info": {
   "codemirror_mode": {
    "name": "ipython",
    "version": 3
   },
   "file_extension": ".py",
   "mimetype": "text/x-python",
   "name": "python",
   "nbconvert_exporter": "python",
   "pygments_lexer": "ipython3",
   "version": "3.10.9"
  },
  "orig_nbformat": 4
 },
 "nbformat": 4,
 "nbformat_minor": 2
}
