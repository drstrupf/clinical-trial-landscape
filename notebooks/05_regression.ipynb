{
 "cells": [
  {
   "cell_type": "markdown",
   "metadata": {},
   "source": [
    "# Human Development Index vs. trial coverage disproportionality\n",
    "Linear regression analyses with statsmodels."
   ]
  },
  {
   "cell_type": "code",
   "execution_count": null,
   "metadata": {},
   "outputs": [],
   "source": [
    "%load_ext autoreload\n",
    "%autoreload 2"
   ]
  },
  {
   "cell_type": "code",
   "execution_count": null,
   "metadata": {},
   "outputs": [],
   "source": [
    "%load_ext blackcellmagic"
   ]
  },
  {
   "cell_type": "code",
   "execution_count": null,
   "metadata": {},
   "outputs": [],
   "source": [
    "import numpy as np\n",
    "import pandas as pd\n",
    "\n",
    "import matplotlib.pyplot as plt\n",
    "import seaborn as sns\n",
    "sns.set(color_codes=True)\n",
    "sns.set_style(\"whitegrid\", {\"grid.color\": \"gainsboro\"})\n",
    "\n",
    "from tools import visualization"
   ]
  },
  {
   "cell_type": "markdown",
   "metadata": {},
   "source": [
    "## Load trial data"
   ]
  },
  {
   "cell_type": "code",
   "execution_count": null,
   "metadata": {},
   "outputs": [],
   "source": [
    "grouper_column_names = [\n",
    "    \"country_ISO\",\n",
    "    \"country_continent\",\n",
    "    \"subregion\",\n",
    "    \"economy_level\",\n",
    "    \"consolidated_economy_level\",\n",
    "    \"income_group\",\n",
    "    \"consolidated_income_group\",\n",
    "    \"hdi_category\",\n",
    "]"
   ]
  },
  {
   "cell_type": "code",
   "execution_count": null,
   "metadata": {},
   "outputs": [],
   "source": [
    "consolidated_counts_overall = {}\n",
    "for grouper_column_name in grouper_column_names:\n",
    "    consolidated_counts_overall[grouper_column_name] = pd.read_excel(\n",
    "        \"data/results/trials_sites_counts.xlsx\",\n",
    "        sheet_name=\"ovr_\" + grouper_column_name,\n",
    "    )"
   ]
  },
  {
   "cell_type": "code",
   "execution_count": null,
   "metadata": {},
   "outputs": [],
   "source": [
    "consolidated_counts_overall[\"country_continent\"]"
   ]
  },
  {
   "cell_type": "code",
   "execution_count": null,
   "metadata": {},
   "outputs": [],
   "source": [
    "consolidated_counts_per_phase = {}\n",
    "for grouper_column_name in grouper_column_names:\n",
    "    consolidated_counts_per_phase[grouper_column_name] = pd.read_excel(\n",
    "        \"data/results/trials_sites_counts.xlsx\",\n",
    "        sheet_name=\"phs_\" + grouper_column_name,\n",
    "    )"
   ]
  },
  {
   "cell_type": "code",
   "execution_count": null,
   "metadata": {},
   "outputs": [],
   "source": [
    "consolidated_counts_per_phase[\"country_continent\"].head()"
   ]
  },
  {
   "cell_type": "markdown",
   "metadata": {},
   "source": [
    "## Combine country data with HDI data\n",
    "Our counts data only is per HDI category; we need the actual HDI value for regression analyses, so we have to load this data again."
   ]
  },
  {
   "cell_type": "markdown",
   "metadata": {},
   "source": [
    "### Geographic and socioeconomic data"
   ]
  },
  {
   "cell_type": "code",
   "execution_count": null,
   "metadata": {},
   "outputs": [],
   "source": [
    "ms_trials_socioeconomic = pd.read_excel(\n",
    "    \"data/results/trials_sites_counts.xlsx\", sheet_name=\"Base_dataset\"\n",
    ")"
   ]
  },
  {
   "cell_type": "code",
   "execution_count": null,
   "metadata": {},
   "outputs": [],
   "source": [
    "country_socioeconomic_data = (\n",
    "    ms_trials_socioeconomic[\n",
    "        [\n",
    "            \"country_ISO\",\n",
    "            \"country_continent\",\n",
    "            \"subregion\",\n",
    "            \"consolidated_income_group\",\n",
    "            \"consolidated_economy_level\",\n",
    "            \"hdi_category\",\n",
    "        ]\n",
    "    ]\n",
    "    .drop_duplicates()\n",
    "    .reset_index(drop=True)\n",
    "    .copy()\n",
    ")"
   ]
  },
  {
   "cell_type": "code",
   "execution_count": null,
   "metadata": {},
   "outputs": [],
   "source": [
    "country_socioeconomic_data"
   ]
  },
  {
   "cell_type": "markdown",
   "metadata": {},
   "source": [
    "### Trial data"
   ]
  },
  {
   "cell_type": "code",
   "execution_count": null,
   "metadata": {},
   "outputs": [],
   "source": [
    "country_overall = consolidated_counts_overall[\"country_ISO\"].copy()"
   ]
  },
  {
   "cell_type": "code",
   "execution_count": null,
   "metadata": {},
   "outputs": [],
   "source": [
    "country_per_phase = consolidated_counts_per_phase[\"country_ISO\"].copy()"
   ]
  },
  {
   "cell_type": "code",
   "execution_count": null,
   "metadata": {},
   "outputs": [],
   "source": [
    "country_overall[\"phase\"] = \"All phases\""
   ]
  },
  {
   "cell_type": "code",
   "execution_count": null,
   "metadata": {},
   "outputs": [],
   "source": [
    "trials_sites_counts = pd.concat(\n",
    "    [\n",
    "        country_overall,\n",
    "        country_per_phase.rename(\n",
    "            columns={\n",
    "                colname: colname.replace(\"_phase\", \"_overall\")\n",
    "                for colname in country_per_phase.columns\n",
    "            }\n",
    "        ),\n",
    "    ]\n",
    ").reset_index(drop=True)"
   ]
  },
  {
   "cell_type": "code",
   "execution_count": null,
   "metadata": {},
   "outputs": [],
   "source": [
    "trials_sites_counts"
   ]
  },
  {
   "cell_type": "markdown",
   "metadata": {},
   "source": [
    "### HDI data"
   ]
  },
  {
   "cell_type": "code",
   "execution_count": null,
   "metadata": {},
   "outputs": [],
   "source": [
    "hdi_raw = pd.read_csv(\"data/source/unstats/human-development-index.csv\")"
   ]
  },
  {
   "cell_type": "code",
   "execution_count": null,
   "metadata": {},
   "outputs": [],
   "source": [
    "hdi_raw.head()"
   ]
  },
  {
   "cell_type": "markdown",
   "metadata": {},
   "source": [
    "#### Get most recent per country"
   ]
  },
  {
   "cell_type": "code",
   "execution_count": null,
   "metadata": {},
   "outputs": [],
   "source": [
    "max_year_hdi_per_country = (\n",
    "    hdi_raw[[\"Entity\", \"Code\", \"Year\"]]\n",
    "    .groupby([\"Entity\", \"Code\"])\n",
    "    .max()\n",
    "    .reset_index()\n",
    ")"
   ]
  },
  {
   "cell_type": "code",
   "execution_count": null,
   "metadata": {},
   "outputs": [],
   "source": [
    "max_year_hdi_per_country.head()"
   ]
  },
  {
   "cell_type": "code",
   "execution_count": null,
   "metadata": {},
   "outputs": [],
   "source": [
    "hdi_raw = pd.merge(\n",
    "    left=hdi_raw,\n",
    "    right=max_year_hdi_per_country,\n",
    "    on=[\"Entity\", \"Code\", \"Year\"],\n",
    "    how=\"inner\",\n",
    ")"
   ]
  },
  {
   "cell_type": "code",
   "execution_count": null,
   "metadata": {},
   "outputs": [],
   "source": [
    "hdi_raw"
   ]
  },
  {
   "cell_type": "markdown",
   "metadata": {},
   "source": [
    "### Rename columns for convenience"
   ]
  },
  {
   "cell_type": "code",
   "execution_count": null,
   "metadata": {},
   "outputs": [],
   "source": [
    "hdi_data = (\n",
    "    hdi_raw[[\"Entity\", \"Code\", \"Human Development Index\"]]\n",
    "    .rename(\n",
    "        columns={\n",
    "            \"Entity\": \"hdi_country\",\n",
    "            \"Code\": \"country_ISO\",\n",
    "            \"Human Development Index\": \"hdi\",\n",
    "        }\n",
    "    )\n",
    "    .copy()\n",
    ")"
   ]
  },
  {
   "cell_type": "code",
   "execution_count": null,
   "metadata": {},
   "outputs": [],
   "source": [
    "hdi_data.head()"
   ]
  },
  {
   "cell_type": "markdown",
   "metadata": {},
   "source": [
    "### Merge"
   ]
  },
  {
   "cell_type": "markdown",
   "metadata": {},
   "source": [
    "We use an inner join here, since we only do regression with the countries we have the HDI data for."
   ]
  },
  {
   "cell_type": "code",
   "execution_count": null,
   "metadata": {},
   "outputs": [],
   "source": [
    "trials_sites_counts = pd.merge(left=trials_sites_counts, right=hdi_data[[\"country_ISO\", \"hdi\"]], on=\"country_ISO\", how=\"inner\")"
   ]
  },
  {
   "cell_type": "code",
   "execution_count": null,
   "metadata": {},
   "outputs": [],
   "source": [
    "trials_sites_counts"
   ]
  },
  {
   "cell_type": "markdown",
   "metadata": {},
   "source": [
    "### Add info"
   ]
  },
  {
   "cell_type": "code",
   "execution_count": null,
   "metadata": {},
   "outputs": [],
   "source": [
    "trials_sites_counts = pd.merge(left=trials_sites_counts, right=country_socioeconomic_data, on=\"country_ISO\", how=\"left\")"
   ]
  },
  {
   "cell_type": "markdown",
   "metadata": {},
   "source": [
    "### Nice-ify data"
   ]
  },
  {
   "cell_type": "code",
   "execution_count": null,
   "metadata": {},
   "outputs": [],
   "source": [
    "trials_sites_counts[\"phase\"] = trials_sites_counts[\"phase\"].str.replace(\"PHASE\", \"Phase \")"
   ]
  },
  {
   "cell_type": "markdown",
   "metadata": {},
   "source": [
    "## Regression plots"
   ]
  },
  {
   "cell_type": "markdown",
   "metadata": {},
   "source": [
    "### Prepare data"
   ]
  },
  {
   "cell_type": "code",
   "execution_count": null,
   "metadata": {},
   "outputs": [],
   "source": [
    "plot_data_nonzero = trials_sites_counts[trials_sites_counts[\"n_trials\"] > 0].copy()"
   ]
  },
  {
   "cell_type": "markdown",
   "metadata": {},
   "source": [
    "Compute the logs of the disproportionality factor:"
   ]
  },
  {
   "cell_type": "code",
   "execution_count": null,
   "metadata": {},
   "outputs": [],
   "source": [
    "plot_data_nonzero[\"log_factor_deviation_n_trials_from_expected\"] = np.log10(plot_data_nonzero[\"factor_deviation_n_trials_from_expected\"])\n",
    "plot_data_nonzero[\"log_factor_deviation_n_sites_from_expected\"] = np.log10(plot_data_nonzero[\"factor_deviation_n_sites_from_expected\"])"
   ]
  },
  {
   "cell_type": "markdown",
   "metadata": {},
   "source": [
    "We also need a list of continents to create the hue/hue order in scatterplots:"
   ]
  },
  {
   "cell_type": "code",
   "execution_count": null,
   "metadata": {},
   "outputs": [],
   "source": [
    "continents = sorted(list(plot_data_nonzero[\"country_continent\"].drop_duplicates()))"
   ]
  },
  {
   "cell_type": "code",
   "execution_count": null,
   "metadata": {},
   "outputs": [],
   "source": [
    "continents"
   ]
  },
  {
   "cell_type": "code",
   "execution_count": null,
   "metadata": {},
   "outputs": [],
   "source": [
    "continent_colors = [\"black\", \"indigo\", \"deeppink\", \"orange\", \"olivedrab\", \"teal\"]"
   ]
  },
  {
   "cell_type": "markdown",
   "metadata": {},
   "source": [
    "### All phases"
   ]
  },
  {
   "cell_type": "markdown",
   "metadata": {},
   "source": [
    "#### Trials"
   ]
  },
  {
   "cell_type": "code",
   "execution_count": null,
   "metadata": {},
   "outputs": [],
   "source": [
    "fig, ax = plt.subplots(1, figsize=(6, 6))\n",
    "g = visualization.linear_regression_and_scatter_plot(\n",
    "    data=plot_data_nonzero[plot_data_nonzero[\"phase\"] == \"All phases\"],\n",
    "    x_column=\"hdi\",\n",
    "    y_column=\"log_factor_deviation_n_trials_from_expected\",\n",
    "    scatter_palette=continent_colors,\n",
    "    scatter_hue_column=\"country_continent\",\n",
    "    scatter_hue_order=continents,\n",
    "    scatter_alpha=.75,\n",
    "    xlim=(0.55, 0.975),\n",
    "    ylim=(-1.5, 3.5),\n",
    "    n_points=100,\n",
    "    ax=ax,\n",
    ")\n",
    "\n",
    "ax.legend(title=\"Continent\")\n",
    "ax.set_xlabel(\"Human Development Index\")\n",
    "ax.set_ylabel(\"Log-disproportionality of trials\")\n",
    "\n",
    "sns.despine(bottom=True, top=True, left=True, right=True, ax=ax)\n",
    "fig.tight_layout()\n",
    "plt.show()"
   ]
  },
  {
   "cell_type": "markdown",
   "metadata": {},
   "source": [
    "#### Trial sites"
   ]
  },
  {
   "cell_type": "code",
   "execution_count": null,
   "metadata": {},
   "outputs": [],
   "source": [
    "fig, ax = plt.subplots(1, figsize=(6, 6))\n",
    "g = visualization.linear_regression_and_scatter_plot(\n",
    "    data=plot_data_nonzero[plot_data_nonzero[\"phase\"] == \"All phases\"],\n",
    "    x_column=\"hdi\",\n",
    "    y_column=\"log_factor_deviation_n_sites_from_expected\",\n",
    "    scatter_palette=continent_colors,\n",
    "    scatter_hue_column=\"country_continent\",\n",
    "    scatter_hue_order=continents,\n",
    "    scatter_alpha=.75,\n",
    "    xlim=(0.55, 0.975),\n",
    "    ylim=(-2.75, 2.25),\n",
    "    n_points=100,\n",
    "    ax=ax,\n",
    ")\n",
    "\n",
    "ax.legend(title=\"Continent\")\n",
    "ax.set_xlabel(\"Human Development Index\")\n",
    "ax.set_ylabel(\"Log-disproportionality of trial sites\")\n",
    "\n",
    "sns.despine(bottom=True, top=True, left=True, right=True, ax=ax)\n",
    "fig.tight_layout()\n",
    "plt.show()"
   ]
  },
  {
   "cell_type": "markdown",
   "metadata": {},
   "source": [
    "### 4 phases"
   ]
  },
  {
   "cell_type": "markdown",
   "metadata": {},
   "source": [
    "####  Trials"
   ]
  },
  {
   "cell_type": "code",
   "execution_count": null,
   "metadata": {},
   "outputs": [],
   "source": [
    "fig, axes = plt.subplots(2, 2, figsize=(14, 9))\n",
    "\n",
    "for i in range(1, 5):\n",
    "\n",
    "    g = visualization.linear_regression_and_scatter_plot(\n",
    "        data=plot_data_nonzero[\n",
    "            plot_data_nonzero[\"phase\"] == \"Phase \" + str(i)\n",
    "        ],\n",
    "        x_column=\"hdi\",\n",
    "        y_column=\"log_factor_deviation_n_trials_from_expected\",\n",
    "        scatter_palette=continent_colors,\n",
    "        scatter_hue_column=\"country_continent\",\n",
    "        scatter_hue_order=continents,\n",
    "        scatter_alpha=.75,\n",
    "        xlim=(0.55, 0.975),\n",
    "        ylim=(-1.5, 3.5),\n",
    "        n_points=100,\n",
    "        ax=axes[i // 3][1 - i % 2],\n",
    "    )\n",
    "\n",
    "    axes[i // 3][1 - i % 2].legend(title=\"Continent\")\n",
    "    axes[i // 3][1 - i % 2].set_xlabel(\"Human Development Index\")\n",
    "    axes[i // 3][1 - i % 2].set_ylabel(\"Log-disproportionality of trias\")\n",
    "    axes[i // 3][1 - i % 2].set_title(\"ABCD\"[i - 1] + \") Phase \" + str(i))\n",
    "\n",
    "fig.tight_layout()\n",
    "plt.show()"
   ]
  },
  {
   "cell_type": "markdown",
   "metadata": {},
   "source": [
    "#### Trial sites"
   ]
  },
  {
   "cell_type": "code",
   "execution_count": null,
   "metadata": {},
   "outputs": [],
   "source": [
    "fig, axes = plt.subplots(2, 2, figsize=(14, 9))\n",
    "\n",
    "for i in range(1, 5):\n",
    "\n",
    "    g = visualization.linear_regression_and_scatter_plot(\n",
    "        data=plot_data_nonzero[\n",
    "            plot_data_nonzero[\"phase\"] == \"Phase \" + str(i)\n",
    "        ],\n",
    "        x_column=\"hdi\",\n",
    "        y_column=\"log_factor_deviation_n_sites_from_expected\",\n",
    "        scatter_palette=continent_colors,\n",
    "        scatter_hue_column=\"country_continent\",\n",
    "        scatter_hue_order=continents,\n",
    "        scatter_alpha=.75,\n",
    "        xlim=(0.55, 0.975),\n",
    "        ylim=(-2.75, 2.25),\n",
    "        n_points=100,\n",
    "        ax=axes[i // 3][1 - i % 2],\n",
    "    )\n",
    "\n",
    "    axes[i // 3][1 - i % 2].legend(title=\"Continent\")\n",
    "    axes[i // 3][1 - i % 2].set_xlabel(\"Human Development Index\")\n",
    "    axes[i // 3][1 - i % 2].set_ylabel(\"Log-disproportionality of trial sites\")\n",
    "    axes[i // 3][1 - i % 2].set_title(\"ABCD\"[i - 1] + \") Phase \" + str(i))\n",
    "\n",
    "fig.tight_layout()\n",
    "plt.show()"
   ]
  }
 ],
 "metadata": {
  "kernelspec": {
   "display_name": "geography",
   "language": "python",
   "name": "python3"
  },
  "language_info": {
   "codemirror_mode": {
    "name": "ipython",
    "version": 3
   },
   "file_extension": ".py",
   "mimetype": "text/x-python",
   "name": "python",
   "nbconvert_exporter": "python",
   "pygments_lexer": "ipython3",
   "version": "3.10.9"
  },
  "orig_nbformat": 4
 },
 "nbformat": 4,
 "nbformat_minor": 2
}
