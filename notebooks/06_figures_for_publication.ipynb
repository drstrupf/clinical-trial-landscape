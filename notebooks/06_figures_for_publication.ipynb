{
 "cells": [
  {
   "cell_type": "markdown",
   "metadata": {},
   "source": [
    "# Figures for publication"
   ]
  },
  {
   "cell_type": "code",
   "execution_count": null,
   "metadata": {},
   "outputs": [],
   "source": [
    "%load_ext autoreload\n",
    "%autoreload 2"
   ]
  },
  {
   "cell_type": "code",
   "execution_count": null,
   "metadata": {},
   "outputs": [],
   "source": [
    "%load_ext blackcellmagic"
   ]
  },
  {
   "cell_type": "code",
   "execution_count": null,
   "metadata": {},
   "outputs": [],
   "source": [
    "import numpy as np\n",
    "import pandas as pd\n",
    "\n",
    "import geopandas as gpd\n",
    "\n",
    "import matplotlib.pyplot as plt\n",
    "import seaborn as sns\n",
    "sns.set(color_codes=True)\n",
    "sns.set_style(\"whitegrid\", {\"grid.color\": \"gainsboro\"})\n",
    "\n",
    "from tools import visualization"
   ]
  },
  {
   "cell_type": "markdown",
   "metadata": {},
   "source": [
    "## Load data"
   ]
  },
  {
   "cell_type": "code",
   "execution_count": null,
   "metadata": {},
   "outputs": [],
   "source": [
    "grouper_column_names = [\n",
    "    \"country_ISO\",\n",
    "    \"country_continent\",\n",
    "    \"subregion\",\n",
    "    \"economy_level\",\n",
    "    \"consolidated_economy_level\",\n",
    "    \"income_group\",\n",
    "    \"consolidated_income_group\",\n",
    "    \"hdi_category\",\n",
    "]"
   ]
  },
  {
   "cell_type": "code",
   "execution_count": null,
   "metadata": {},
   "outputs": [],
   "source": [
    "consolidated_counts_overall = {}\n",
    "for grouper_column_name in grouper_column_names:\n",
    "    consolidated_counts_overall[grouper_column_name] = pd.read_excel(\n",
    "        \"data/results/trials_sites_counts.xlsx\",\n",
    "        sheet_name=\"ovr_\" + grouper_column_name,\n",
    "    )"
   ]
  },
  {
   "cell_type": "code",
   "execution_count": null,
   "metadata": {},
   "outputs": [],
   "source": [
    "consolidated_counts_overall[\"country_continent\"]"
   ]
  },
  {
   "cell_type": "code",
   "execution_count": null,
   "metadata": {},
   "outputs": [],
   "source": [
    "consolidated_counts_per_phase = {}\n",
    "for grouper_column_name in grouper_column_names:\n",
    "    consolidated_counts_per_phase[grouper_column_name] = pd.read_excel(\n",
    "        \"data/results/trials_sites_counts.xlsx\",\n",
    "        sheet_name=\"phs_\" + grouper_column_name,\n",
    "    )"
   ]
  },
  {
   "cell_type": "code",
   "execution_count": null,
   "metadata": {},
   "outputs": [],
   "source": [
    "consolidated_counts_per_phase[\"country_continent\"].head()"
   ]
  },
  {
   "cell_type": "markdown",
   "metadata": {},
   "source": [
    "## Figure 1 - log-disproportionality of trial sites worldmap and regression"
   ]
  },
  {
   "cell_type": "code",
   "execution_count": null,
   "metadata": {},
   "outputs": [],
   "source": [
    "phase_country_data = consolidated_counts_per_phase[\"country_ISO\"]"
   ]
  },
  {
   "cell_type": "code",
   "execution_count": null,
   "metadata": {},
   "outputs": [],
   "source": [
    "phase_country_data_nonzero = phase_country_data[\n",
    "    phase_country_data[\"n_trials\"] > 0\n",
    "].copy()"
   ]
  },
  {
   "cell_type": "code",
   "execution_count": null,
   "metadata": {},
   "outputs": [],
   "source": [
    "phase_country_data_nonzero[\"log10_factor_deviation_n_sites_from_expected\"] = np.log10(\n",
    "    phase_country_data_nonzero[\"factor_deviation_n_sites_from_expected\"]\n",
    ")"
   ]
  },
  {
   "cell_type": "markdown",
   "metadata": {},
   "source": [
    "### Add continent info"
   ]
  },
  {
   "cell_type": "code",
   "execution_count": null,
   "metadata": {},
   "outputs": [],
   "source": [
    "ms_trials_socioeconomic = pd.read_excel(\n",
    "    \"data/results/trials_sites_counts.xlsx\", sheet_name=\"Base_dataset\"\n",
    ")"
   ]
  },
  {
   "cell_type": "code",
   "execution_count": null,
   "metadata": {},
   "outputs": [],
   "source": [
    "country_socioeconomic_data = (\n",
    "    ms_trials_socioeconomic[\n",
    "        [\n",
    "            \"country_ISO\",\n",
    "            \"country_continent\",\n",
    "            \"subregion\",\n",
    "            \"consolidated_income_group\",\n",
    "            \"consolidated_economy_level\",\n",
    "            \"hdi_category\",\n",
    "        ]\n",
    "    ]\n",
    "    .drop_duplicates()\n",
    "    .reset_index(drop=True)\n",
    "    .copy()\n",
    ")"
   ]
  },
  {
   "cell_type": "code",
   "execution_count": null,
   "metadata": {},
   "outputs": [],
   "source": [
    "phase_country_data_nonzero = pd.merge(left=phase_country_data_nonzero, right=country_socioeconomic_data, on=\"country_ISO\", how=\"left\")"
   ]
  },
  {
   "cell_type": "code",
   "execution_count": null,
   "metadata": {},
   "outputs": [],
   "source": [
    "continents = sorted(list(phase_country_data_nonzero[\"country_continent\"].drop_duplicates()))"
   ]
  },
  {
   "cell_type": "markdown",
   "metadata": {},
   "source": [
    "### Load and prepare geometry data from naturalearth\n",
    "https://www.naturalearthdata.com/"
   ]
  },
  {
   "cell_type": "code",
   "execution_count": null,
   "metadata": {},
   "outputs": [],
   "source": [
    "geo_data = gpd.read_file(\"data/source/naturalearth/110m_cultural/ne_110m_admin_0_countries.shx\")"
   ]
  },
  {
   "cell_type": "code",
   "execution_count": null,
   "metadata": {},
   "outputs": [],
   "source": [
    "geo_data = geo_data[\n",
    "    ~geo_data[\"CONTINENT\"].isin([\"Antarctica\", \"Seven seas (open ocean)\"])\n",
    "].copy()"
   ]
  },
  {
   "cell_type": "code",
   "execution_count": null,
   "metadata": {},
   "outputs": [],
   "source": [
    "geo_data = (\n",
    "    geo_data[\n",
    "        [\n",
    "            \"ADM0_A3\",\n",
    "            \"SUBREGION\",\n",
    "            \"geometry\",\n",
    "        ]\n",
    "    ]\n",
    "    .rename(\n",
    "        columns={\n",
    "            \"ADM0_A3\": \"country_ISO\",\n",
    "            \"SUBREGION\": \"subregion\",\n",
    "        }\n",
    "    )\n",
    "    .copy()\n",
    ")"
   ]
  },
  {
   "cell_type": "markdown",
   "metadata": {},
   "source": [
    "### Load and add HDI data"
   ]
  },
  {
   "cell_type": "code",
   "execution_count": null,
   "metadata": {},
   "outputs": [],
   "source": [
    "hdi_raw = pd.read_csv(\"data/source/unstats/human-development-index.csv\")"
   ]
  },
  {
   "cell_type": "code",
   "execution_count": null,
   "metadata": {},
   "outputs": [],
   "source": [
    "max_year_hdi_per_country = (\n",
    "    hdi_raw[[\"Entity\", \"Code\", \"Year\"]]\n",
    "    .groupby([\"Entity\", \"Code\"])\n",
    "    .max()\n",
    "    .reset_index()\n",
    ")"
   ]
  },
  {
   "cell_type": "code",
   "execution_count": null,
   "metadata": {},
   "outputs": [],
   "source": [
    "hdi_raw = pd.merge(\n",
    "    left=hdi_raw,\n",
    "    right=max_year_hdi_per_country,\n",
    "    on=[\"Entity\", \"Code\", \"Year\"],\n",
    "    how=\"inner\",\n",
    ")"
   ]
  },
  {
   "cell_type": "code",
   "execution_count": null,
   "metadata": {},
   "outputs": [],
   "source": [
    "hdi_data = (\n",
    "    hdi_raw[[\"Entity\", \"Code\", \"Human Development Index\"]]\n",
    "    .rename(\n",
    "        columns={\n",
    "            \"Entity\": \"hdi_country\",\n",
    "            \"Code\": \"country_ISO\",\n",
    "            \"Human Development Index\": \"hdi\",\n",
    "        }\n",
    "    )\n",
    "    .copy()\n",
    ")"
   ]
  },
  {
   "cell_type": "code",
   "execution_count": null,
   "metadata": {},
   "outputs": [],
   "source": [
    "phase_country_data_nonzero = pd.merge(left=phase_country_data_nonzero, right=hdi_data[[\"country_ISO\", \"hdi\"]], on=\"country_ISO\", how=\"inner\")"
   ]
  },
  {
   "cell_type": "markdown",
   "metadata": {},
   "source": [
    "### Plot"
   ]
  },
  {
   "cell_type": "code",
   "execution_count": null,
   "metadata": {},
   "outputs": [],
   "source": [
    "continent_colors = [\"black\", \"indigo\", \"deeppink\", \"orange\", \"olivedrab\", \"teal\"]"
   ]
  },
  {
   "cell_type": "code",
   "execution_count": null,
   "metadata": {},
   "outputs": [],
   "source": [
    "fig, axes = plt.subplots(4, 2, figsize=((20, 20)), width_ratios=[15, 5])\n",
    "\n",
    "for i in range(1, 5):\n",
    "    g_world = visualization.plot_choropleth_map_country_level(\n",
    "        trial_data=phase_country_data_nonzero[\n",
    "            phase_country_data_nonzero[\"phase\"] == \"PHASE\" + str(i)\n",
    "        ],\n",
    "        column_to_plot=\"factor_deviation_n_sites_from_expected\",\n",
    "        log_scale=True,\n",
    "        log_scale_diverging_palette=True,\n",
    "        colormap_minimum_value=-2.5,\n",
    "        colormap_maximum_value=1.5,\n",
    "        show_colorbar=True,\n",
    "        edgecolor=u\"black\",\n",
    "        edges_linewidth=0.25,\n",
    "        geometry_base_dataframe=geo_data,\n",
    "        geometry_column_name=\"geometry\",\n",
    "        country_id_column_name=\"country_ISO\",\n",
    "        base_color=\"silver\",\n",
    "        base_edgecolor=u\"white\",\n",
    "        ax=axes[i - 1][0],\n",
    "    )\n",
    "\n",
    "    g_regression = visualization.linear_regression_and_scatter_plot(\n",
    "        data=phase_country_data_nonzero[\n",
    "            phase_country_data_nonzero[\"phase\"] == \"PHASE\" + str(i)\n",
    "        ],\n",
    "        x_column=\"hdi\",\n",
    "        y_column=\"log10_factor_deviation_n_sites_from_expected\",\n",
    "        scatter_palette=continent_colors,\n",
    "        scatter_hue_column=\"country_continent\",\n",
    "        scatter_hue_order=continents,\n",
    "        scatter_alpha=.75,\n",
    "        xlim=(0.55, 0.975),\n",
    "        ylim=(-2.75, 2.25),\n",
    "        n_points=100,\n",
    "        ax=axes[i - 1][1],\n",
    "    )\n",
    "\n",
    "    axes[i - 1][1].legend(title=\"Continent\", loc=\"upper left\")\n",
    "    axes[i - 1][1].set_xlabel(\"Human Development Index\")\n",
    "    axes[i - 1][1].set_ylabel(\n",
    "        \"$\\mathregular{Log}_{10}$\" + \"-disproportionality of trial sites\"\n",
    "    )\n",
    "\n",
    "    axes[i - 1][0].set_title(\n",
    "        \"ACEG\"[i - 1]\n",
    "        + \") \"\n",
    "        + \"$\\mathregular{Log}_{10}$\"\n",
    "        + \"-disproportionality of actual number of phase \"\n",
    "        + str(i)\n",
    "        + \" trial sites vs. expected number of phase \"\n",
    "        + str(i)\n",
    "        + \" trial sites based on population\"\n",
    "    )\n",
    "    axes[i - 1][1].set_title(\n",
    "        \"BDFH\"[i - 1]\n",
    "        + \") \"\n",
    "        + \"$\\mathregular{Log}_{10}$\"\n",
    "        + \"-disproportionality of phase \"\n",
    "        + str(i)\n",
    "        + \" trial sites as function of HDI, linear regression\"\n",
    "    )\n",
    "\n",
    "plt.subplots_adjust(hspace=0.75)\n",
    "fig.tight_layout()\n",
    "save_path = \"figures/figure_1\"\n",
    "plt.savefig(save_path + \".pdf\", format=\"pdf\", bbox_inches=\"tight\")\n",
    "plt.savefig(save_path + \".svg\", format=\"svg\", bbox_inches=\"tight\")\n",
    "plt.savefig(save_path + \".png\", format=\"png\", bbox_inches=\"tight\")\n",
    "plt.savefig(\n",
    "    save_path + \".tiff\",\n",
    "    format=\"tiff\",\n",
    "    dpi=600,\n",
    "    pil_kwargs={\"compression\": \"tiff_lzw\"},\n",
    "    bbox_inches=\"tight\",\n",
    ")"
   ]
  },
  {
   "cell_type": "markdown",
   "metadata": {},
   "source": [
    "## Figure 2 - combined heatmaps\n",
    "To include:\n",
    "* Trials per continent, relative\n",
    "* Trial sites per continent\n",
    "* Trial sites per region\n",
    "* Trial sites per HDI"
   ]
  },
  {
   "cell_type": "code",
   "execution_count": null,
   "metadata": {},
   "outputs": [],
   "source": [
    "fig = plt.figure(figsize=(14, 12))\n",
    "\n",
    "# The subpanels have different dimensions, so we have to\n",
    "# play around with the grid specs and create custom axes.\n",
    "ax_l1 = plt.subplot2grid((16, 2), (0, 0), rowspan=6)\n",
    "ax_l2 = plt.subplot2grid((16, 2), (6, 0), rowspan=6)\n",
    "ax_l3 = plt.subplot2grid((16, 2), (12, 0), rowspan=4)\n",
    "ax_r1 = plt.subplot2grid((16, 2), (0, 1), rowspan=20)\n",
    "axes = [ax_l1, ax_l2, ax_l3, ax_r1]\n",
    "\n",
    "\n",
    "g_l1 = visualization.plot_heatmap_per_phase(\n",
    "    trial_data=consolidated_counts_per_phase[\"country_continent\"],\n",
    "    index_column_name=\"country_continent\",\n",
    "    value_column_name=\"of_total_trials_phase\",\n",
    "    annotation_format=\".2%\",\n",
    "    phase_column_name=\"phase\",\n",
    "    linear_palette=\"viridis\",\n",
    "    cbar=False,\n",
    "    ax=ax_l1,\n",
    ")\n",
    "ax_l1.set_title(\"A) Percentage of trials with at least one site on a given continent\")\n",
    "\n",
    "g_l2 = visualization.plot_heatmap_per_phase(\n",
    "    trial_data=consolidated_counts_per_phase[\"country_continent\"],\n",
    "    index_column_name=\"country_continent\",\n",
    "    value_column_name=\"of_total_sites_phase\",\n",
    "    annotation_format=\".2%\",\n",
    "    phase_column_name=\"phase\",\n",
    "    cbar=False,\n",
    "    ax=ax_l2,\n",
    ")\n",
    "ax_l2.set_title(\"B) Distribution of trial sites over continents\")\n",
    "\n",
    "g_l3 = visualization.plot_heatmap_per_phase(\n",
    "    trial_data=consolidated_counts_per_phase[\"hdi_category\"],\n",
    "    index_column_name=\"hdi_category\",\n",
    "    value_column_name=\"of_total_sites_phase\",\n",
    "    annotation_format=\".2%\",\n",
    "    phase_column_name=\"phase\",\n",
    "    cbar=False,\n",
    "    ax=ax_l3,\n",
    ")\n",
    "ax_l3.set_title(\"C) Distribution of trial sites over HDI categories\")\n",
    "\n",
    "g_r1 = visualization.plot_heatmap_per_phase(\n",
    "    trial_data=consolidated_counts_per_phase[\"subregion\"],\n",
    "    index_column_name=\"subregion\",\n",
    "    value_column_name=\"of_total_sites_phase\",\n",
    "    annotation_format=\".2%\",\n",
    "    phase_column_name=\"phase\",\n",
    "    cbar=False,\n",
    "    ax=ax_r1,\n",
    ")\n",
    "ax_r1.set_title(\"D) Distribution of trial sites over geographical regions\")\n",
    "\n",
    "for ax in axes:\n",
    "    ax.set_xlabel(None)\n",
    "    ax.set_ylabel(None)\n",
    "fig.tight_layout()\n",
    "\n",
    "save_path = \"figures/figure_2\"\n",
    "plt.savefig(save_path + \".pdf\", format=\"pdf\", bbox_inches=\"tight\")\n",
    "plt.savefig(save_path + \".svg\", format=\"svg\", bbox_inches=\"tight\")\n",
    "plt.savefig(save_path + \".png\", format=\"png\", bbox_inches=\"tight\")\n",
    "plt.savefig(\n",
    "    save_path + \".tiff\",\n",
    "    format=\"tiff\",\n",
    "    dpi=600,\n",
    "    pil_kwargs={\"compression\": \"tiff_lzw\"},\n",
    "    bbox_inches=\"tight\",\n",
    ")"
   ]
  },
  {
   "cell_type": "markdown",
   "metadata": {},
   "source": [
    "## Figure for GitHub README summary"
   ]
  },
  {
   "cell_type": "markdown",
   "metadata": {},
   "source": [
    "### Prepare data"
   ]
  },
  {
   "cell_type": "code",
   "execution_count": null,
   "metadata": {},
   "outputs": [],
   "source": [
    "overall_country_data = consolidated_counts_overall[\"country_ISO\"]"
   ]
  },
  {
   "cell_type": "code",
   "execution_count": null,
   "metadata": {},
   "outputs": [],
   "source": [
    "overall_country_data_nonzero = overall_country_data[\n",
    "    overall_country_data[\"n_trials\"] > 0\n",
    "].copy()"
   ]
  },
  {
   "cell_type": "markdown",
   "metadata": {},
   "source": [
    "### Add continent info"
   ]
  },
  {
   "cell_type": "code",
   "execution_count": null,
   "metadata": {},
   "outputs": [],
   "source": [
    "overall_country_data_nonzero = pd.merge(left=overall_country_data_nonzero, right=country_socioeconomic_data, on=\"country_ISO\", how=\"left\")"
   ]
  },
  {
   "cell_type": "markdown",
   "metadata": {},
   "source": [
    "### Plot"
   ]
  },
  {
   "cell_type": "code",
   "execution_count": null,
   "metadata": {},
   "outputs": [],
   "source": [
    "fig, ax = plt.subplots(1, figsize=(15, 15))\n",
    "\n",
    "g = visualization.plot_choropleth_map_country_level(\n",
    "    trial_data=overall_country_data_nonzero,\n",
    "    column_to_plot=\"factor_deviation_n_sites_from_expected\",\n",
    "    log_scale=True,\n",
    "    log_scale_diverging_palette=True,\n",
    "    colormap_minimum_value=-2.5,\n",
    "    colormap_maximum_value=1.5,\n",
    "    show_colorbar=True,\n",
    "    edgecolor=u\"black\",\n",
    "    edges_linewidth=0.25,\n",
    "    geometry_base_dataframe=geo_data,\n",
    "    geometry_column_name=\"geometry\",\n",
    "    country_id_column_name=\"country_ISO\",\n",
    "    base_color=\"silver\",\n",
    "    base_edgecolor=u\"white\",\n",
    "    ax=None,\n",
    ")\n",
    "g.set_title(\"$\\mathregular{Log}_{10}$\" + \"-disproportionality of actual number of trial sites vs. expected number of trial sites based on population\")\n",
    "\n",
    "fig.tight_layout()\n",
    "save_path = \"figures/log10_disproportionality_all_phases\"\n",
    "plt.savefig(save_path + \".pdf\", format=\"pdf\", bbox_inches=\"tight\")\n",
    "plt.savefig(save_path + \".svg\", format=\"svg\", bbox_inches=\"tight\")\n",
    "plt.savefig(save_path + \".png\", format=\"png\", bbox_inches=\"tight\")\n",
    "plt.savefig(\n",
    "    save_path + \".tiff\",\n",
    "    format=\"tiff\",\n",
    "    dpi=600,\n",
    "    pil_kwargs={\"compression\": \"tiff_lzw\"},\n",
    "    bbox_inches=\"tight\",\n",
    ")"
   ]
  }
 ],
 "metadata": {
  "kernelspec": {
   "display_name": "geography",
   "language": "python",
   "name": "python3"
  },
  "language_info": {
   "codemirror_mode": {
    "name": "ipython",
    "version": 3
   },
   "file_extension": ".py",
   "mimetype": "text/x-python",
   "name": "python",
   "nbconvert_exporter": "python",
   "pygments_lexer": "ipython3",
   "version": "3.10.9"
  },
  "orig_nbformat": 4
 },
 "nbformat": 4,
 "nbformat_minor": 2
}
