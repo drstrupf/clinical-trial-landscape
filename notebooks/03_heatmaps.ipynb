{
 "cells": [
  {
   "cell_type": "markdown",
   "metadata": {},
   "source": [
    "# Plot heatmaps\n",
    "We plot various heatmaps of trial and trial site numbers per phase for different stratifications."
   ]
  },
  {
   "cell_type": "code",
   "execution_count": null,
   "metadata": {},
   "outputs": [],
   "source": [
    "import pandas as pd\n",
    "\n",
    "import matplotlib.pyplot as plt\n",
    "import seaborn as sns\n",
    "sns.set(color_codes=True)\n",
    "sns.set_style(\"whitegrid\", {\"grid.color\": \"gainsboro\"})\n",
    "\n",
    "from tools import visualization"
   ]
  },
  {
   "cell_type": "code",
   "execution_count": null,
   "metadata": {},
   "outputs": [],
   "source": [
    "# To suppress division by zero warning when using a log scale\n",
    "import warnings\n",
    "warnings.filterwarnings('ignore')"
   ]
  },
  {
   "cell_type": "code",
   "execution_count": null,
   "metadata": {},
   "outputs": [],
   "source": [
    "%load_ext autoreload\n",
    "%autoreload 2"
   ]
  },
  {
   "cell_type": "code",
   "execution_count": null,
   "metadata": {},
   "outputs": [],
   "source": [
    "%load_ext blackcellmagic"
   ]
  },
  {
   "cell_type": "markdown",
   "metadata": {},
   "source": [
    "## Load data"
   ]
  },
  {
   "cell_type": "code",
   "execution_count": null,
   "metadata": {},
   "outputs": [],
   "source": [
    "grouper_column_names = [\n",
    "    \"country_ISO\",\n",
    "    \"country_continent\",\n",
    "    \"subregion\",\n",
    "    \"economy_level\",\n",
    "    \"consolidated_economy_level\",\n",
    "    \"income_group\",\n",
    "    \"consolidated_income_group\",\n",
    "    \"hdi_category\",\n",
    "]"
   ]
  },
  {
   "cell_type": "code",
   "execution_count": null,
   "metadata": {},
   "outputs": [],
   "source": [
    "consolidated_counts_overall = {}\n",
    "for grouper_column_name in grouper_column_names:\n",
    "    consolidated_counts_overall[grouper_column_name] = pd.read_excel(\n",
    "        \"data/results/trials_sites_counts.xlsx\",\n",
    "        sheet_name=\"ovr_\" + grouper_column_name,\n",
    "    )"
   ]
  },
  {
   "cell_type": "code",
   "execution_count": null,
   "metadata": {},
   "outputs": [],
   "source": [
    "consolidated_counts_overall[\"country_continent\"]"
   ]
  },
  {
   "cell_type": "code",
   "execution_count": null,
   "metadata": {},
   "outputs": [],
   "source": [
    "consolidated_counts_per_phase = {}\n",
    "for grouper_column_name in grouper_column_names:\n",
    "    consolidated_counts_per_phase[grouper_column_name] = pd.read_excel(\n",
    "        \"data/results/trials_sites_counts.xlsx\",\n",
    "        sheet_name=\"phs_\" + grouper_column_name,\n",
    "    )"
   ]
  },
  {
   "cell_type": "code",
   "execution_count": null,
   "metadata": {},
   "outputs": [],
   "source": [
    "consolidated_counts_per_phase[\"country_continent\"].head()"
   ]
  },
  {
   "cell_type": "markdown",
   "metadata": {},
   "source": [
    "## Heatmaps for trials"
   ]
  },
  {
   "cell_type": "markdown",
   "metadata": {},
   "source": [
    "### Trial counts"
   ]
  },
  {
   "cell_type": "code",
   "execution_count": null,
   "metadata": {},
   "outputs": [],
   "source": [
    "list(consolidated_counts_per_phase)"
   ]
  },
  {
   "cell_type": "markdown",
   "metadata": {},
   "source": [
    "#### Continent level"
   ]
  },
  {
   "cell_type": "code",
   "execution_count": null,
   "metadata": {},
   "outputs": [],
   "source": [
    "fig, axes = plt.subplots(1, 2, figsize=(14, 6))\n",
    "\n",
    "g_left = visualization.plot_heatmap_per_phase(\n",
    "    trial_data=consolidated_counts_per_phase[\"country_continent\"],\n",
    "    index_column_name=\"country_continent\",\n",
    "    value_column_name=\"n_trials\",\n",
    "    annotation_format=\"g\",\n",
    "    phase_column_name=\"phase\",\n",
    "    cbar=False,\n",
    "    ax=axes[0],\n",
    ")\n",
    "g_right = visualization.plot_heatmap_per_phase(\n",
    "    trial_data=consolidated_counts_per_phase[\"country_continent\"],\n",
    "    index_column_name=\"country_continent\",\n",
    "    value_column_name=\"of_total_trials_phase\",\n",
    "    annotation_format=\".2%\",\n",
    "    phase_column_name=\"phase\",\n",
    "    cbar=False,\n",
    "    ax=axes[1],\n",
    ")\n",
    "g_left.set_title(\"A) Number of trials with at least one site in a given continent\")\n",
    "g_right.set_title(\"B) Percentage of trials with at least one site in a given continent\")\n",
    "fig.tight_layout()\n",
    "plt.show()"
   ]
  },
  {
   "cell_type": "markdown",
   "metadata": {},
   "source": [
    "#### Subregion level"
   ]
  },
  {
   "cell_type": "code",
   "execution_count": null,
   "metadata": {},
   "outputs": [],
   "source": [
    "fig, axes = plt.subplots(1, 2, figsize=(14, 6))\n",
    "\n",
    "g_left = visualization.plot_heatmap_per_phase(\n",
    "    trial_data=consolidated_counts_per_phase[\"subregion\"],\n",
    "    index_column_name=\"subregion\",\n",
    "    value_column_name=\"n_trials\",\n",
    "    annotation_format=\"g\",\n",
    "    phase_column_name=\"phase\",\n",
    "    cbar=False,\n",
    "    ax=axes[0],\n",
    ")\n",
    "g_right = visualization.plot_heatmap_per_phase(\n",
    "    trial_data=consolidated_counts_per_phase[\"subregion\"],\n",
    "    index_column_name=\"subregion\",\n",
    "    value_column_name=\"of_total_trials_phase\",\n",
    "    annotation_format=\".2%\",\n",
    "    phase_column_name=\"phase\",\n",
    "    cbar=False,\n",
    "    ax=axes[1],\n",
    ")\n",
    "g_left.set_title(\"A) Number of trials with at least one site in a given region\")\n",
    "g_right.set_title(\"B) Percentage of trials with at least one site in a given region\")\n",
    "fig.tight_layout()\n",
    "plt.show()"
   ]
  },
  {
   "cell_type": "markdown",
   "metadata": {},
   "source": [
    "#### Economy level"
   ]
  },
  {
   "cell_type": "code",
   "execution_count": null,
   "metadata": {},
   "outputs": [],
   "source": [
    "fig, axes = plt.subplots(1, 2, figsize=(14, 6))\n",
    "\n",
    "g_left = visualization.plot_heatmap_per_phase(\n",
    "    trial_data=consolidated_counts_per_phase[\"consolidated_economy_level\"],\n",
    "    index_column_name=\"consolidated_economy_level\",\n",
    "    value_column_name=\"n_trials\",\n",
    "    annotation_format=\"g\",\n",
    "    phase_column_name=\"phase\",\n",
    "    cbar=False,\n",
    "    ax=axes[0],\n",
    ")\n",
    "g_right = visualization.plot_heatmap_per_phase(\n",
    "    trial_data=consolidated_counts_per_phase[\"consolidated_economy_level\"],\n",
    "    index_column_name=\"consolidated_economy_level\",\n",
    "    value_column_name=\"of_total_trials_phase\",\n",
    "    annotation_format=\".2%\",\n",
    "    phase_column_name=\"phase\",\n",
    "    cbar=False,\n",
    "    ax=axes[1],\n",
    ")\n",
    "g_left.set_title(\"A) Number of trials with at least one site in a given development region\")\n",
    "g_right.set_title(\"B) Percentage of trials with at least one site in a given development region\")\n",
    "fig.tight_layout()\n",
    "plt.show()"
   ]
  },
  {
   "cell_type": "markdown",
   "metadata": {},
   "source": [
    "#### Income level"
   ]
  },
  {
   "cell_type": "code",
   "execution_count": null,
   "metadata": {},
   "outputs": [],
   "source": [
    "fig, axes = plt.subplots(1, 2, figsize=(14, 6))\n",
    "\n",
    "g_left = visualization.plot_heatmap_per_phase(\n",
    "    trial_data=consolidated_counts_per_phase[\"consolidated_income_group\"],\n",
    "    index_column_name=\"consolidated_income_group\",\n",
    "    value_column_name=\"n_trials\",\n",
    "    annotation_format=\"g\",\n",
    "    phase_column_name=\"phase\",\n",
    "    cbar=False,\n",
    "    ax=axes[0],\n",
    ")\n",
    "g_right = visualization.plot_heatmap_per_phase(\n",
    "    trial_data=consolidated_counts_per_phase[\"consolidated_income_group\"],\n",
    "    index_column_name=\"consolidated_income_group\",\n",
    "    value_column_name=\"of_total_trials_phase\",\n",
    "    annotation_format=\".2%\",\n",
    "    phase_column_name=\"phase\",\n",
    "    cbar=False,\n",
    "    ax=axes[1],\n",
    ")\n",
    "g_left.set_title(\"A) Number of trials with at least one site in a given income class\")\n",
    "g_right.set_title(\"B) Percentage of trials with at least one site in a given income class\")\n",
    "fig.tight_layout()\n",
    "plt.show()"
   ]
  },
  {
   "cell_type": "markdown",
   "metadata": {},
   "source": [
    "#### Human Development Index"
   ]
  },
  {
   "cell_type": "code",
   "execution_count": null,
   "metadata": {},
   "outputs": [],
   "source": [
    "fig, axes = plt.subplots(1, 2, figsize=(14, 6))\n",
    "\n",
    "g_left = visualization.plot_heatmap_per_phase(\n",
    "    trial_data=consolidated_counts_per_phase[\"hdi_category\"],\n",
    "    index_column_name=\"hdi_category\",\n",
    "    value_column_name=\"n_trials\",\n",
    "    annotation_format=\"g\",\n",
    "    phase_column_name=\"phase\",\n",
    "    cbar=False,\n",
    "    ax=axes[0],\n",
    ")\n",
    "g_right = visualization.plot_heatmap_per_phase(\n",
    "    trial_data=consolidated_counts_per_phase[\"hdi_category\"],\n",
    "    index_column_name=\"hdi_category\",\n",
    "    value_column_name=\"of_total_trials_phase\",\n",
    "    annotation_format=\".2%\",\n",
    "    phase_column_name=\"phase\",\n",
    "    cbar=False,\n",
    "    ax=axes[1],\n",
    ")\n",
    "g_left.set_title(\"A) Number of trials with at least one site in a given HDI class\")\n",
    "g_right.set_title(\"B) Percentage of trials with at least one site in a given HDI class\")\n",
    "fig.tight_layout()\n",
    "plt.show()"
   ]
  },
  {
   "cell_type": "markdown",
   "metadata": {},
   "source": [
    "### Trials, expected trials, and deviation"
   ]
  },
  {
   "cell_type": "markdown",
   "metadata": {},
   "source": [
    "#### Continent"
   ]
  },
  {
   "cell_type": "code",
   "execution_count": null,
   "metadata": {},
   "outputs": [],
   "source": [
    "fig, axes = plt.subplots(2, 2, figsize=(14, 10))\n",
    "\n",
    "g_top_left = visualization.plot_heatmap_per_phase(\n",
    "    trial_data=consolidated_counts_per_phase[\"country_continent\"],\n",
    "    index_column_name=\"country_continent\",\n",
    "    value_column_name=\"n_trials\",\n",
    "    annotation_format=\"g\",\n",
    "    phase_column_name=\"phase\",\n",
    "    cbar=False,\n",
    "    ax=axes[0][0],\n",
    ")\n",
    "g_top_right = visualization.plot_heatmap_per_phase(\n",
    "    trial_data=consolidated_counts_per_phase[\"country_continent\"],\n",
    "    index_column_name=\"country_continent\",\n",
    "    value_column_name=\"n_trials_expected\",\n",
    "    annotation_format=\".2f\",\n",
    "    phase_column_name=\"phase\",\n",
    "    cbar=False,\n",
    "    ax=axes[0][1],\n",
    ")\n",
    "\n",
    "g_bottom_left = visualization.plot_heatmap_per_phase(\n",
    "    trial_data=consolidated_counts_per_phase[\"country_continent\"],\n",
    "    index_column_name=\"country_continent\",\n",
    "    value_column_name=\"factor_deviation_n_trials_from_expected\",\n",
    "    annotation_format=\".2f\",\n",
    "    phase_column_name=\"phase\",\n",
    "    linear_diverging=True,\n",
    "    cbar=False,\n",
    "    ax=axes[1][0],\n",
    ")\n",
    "g_bottom_right = visualization.plot_heatmap_per_phase(\n",
    "    trial_data=consolidated_counts_per_phase[\"country_continent\"],\n",
    "    index_column_name=\"country_continent\",\n",
    "    value_column_name=\"factor_deviation_n_trials_from_expected\",\n",
    "    annotation_format=\".2f\",\n",
    "    phase_column_name=\"phase\",\n",
    "    log_scaled=True,\n",
    "    cbar=False,\n",
    "    ax=axes[1][1],\n",
    ")\n",
    "\n",
    "g_top_left.set_title(\"A) Number of trials with at least one site in a given continent\")\n",
    "g_top_right.set_title(\"B) Expected number of trials with at least one site in a given continent\")\n",
    "g_bottom_left.set_title(\"C) Disproportionality of actual number of trials vs. expected\")\n",
    "g_bottom_right.set_title(\"D) Log-disproportionality of actual number of trials vs. expected\")\n",
    "fig.tight_layout()\n",
    "plt.show()"
   ]
  },
  {
   "cell_type": "markdown",
   "metadata": {},
   "source": [
    "#### Subregion level"
   ]
  },
  {
   "cell_type": "code",
   "execution_count": null,
   "metadata": {},
   "outputs": [],
   "source": [
    "fig, axes = plt.subplots(2, 2, figsize=(14, 10))\n",
    "\n",
    "g_top_left = visualization.plot_heatmap_per_phase(\n",
    "    trial_data=consolidated_counts_per_phase[\"subregion\"],\n",
    "    index_column_name=\"subregion\",\n",
    "    value_column_name=\"n_trials\",\n",
    "    annotation_format=\"g\",\n",
    "    phase_column_name=\"phase\",\n",
    "    cbar=False,\n",
    "    ax=axes[0][0],\n",
    ")\n",
    "g_top_right = visualization.plot_heatmap_per_phase(\n",
    "    trial_data=consolidated_counts_per_phase[\"subregion\"],\n",
    "    index_column_name=\"subregion\",\n",
    "    value_column_name=\"n_trials_expected\",\n",
    "    annotation_format=\".2f\",\n",
    "    phase_column_name=\"phase\",\n",
    "    cbar=False,\n",
    "    ax=axes[0][1],\n",
    ")\n",
    "\n",
    "g_bottom_left = visualization.plot_heatmap_per_phase(\n",
    "    trial_data=consolidated_counts_per_phase[\"subregion\"],\n",
    "    index_column_name=\"subregion\",\n",
    "    value_column_name=\"factor_deviation_n_trials_from_expected\",\n",
    "    annotation_format=\".2f\",\n",
    "    phase_column_name=\"phase\",\n",
    "    linear_diverging=True,\n",
    "    cbar=False,\n",
    "    ax=axes[1][0],\n",
    ")\n",
    "g_bottom_right = visualization.plot_heatmap_per_phase(\n",
    "    trial_data=consolidated_counts_per_phase[\"subregion\"],\n",
    "    index_column_name=\"subregion\",\n",
    "    value_column_name=\"factor_deviation_n_trials_from_expected\",\n",
    "    annotation_format=\".2f\",\n",
    "    phase_column_name=\"phase\",\n",
    "    log_scaled=True,\n",
    "    cbar=False,\n",
    "    ax=axes[1][1],\n",
    ")\n",
    "\n",
    "g_top_left.set_title(\"A) Number of trials with at least one site in a given region\")\n",
    "g_top_right.set_title(\"B) Expected number of trials with at least one site in a given region\")\n",
    "g_bottom_left.set_title(\"C) Disproportionality of actual number of trials vs. expected\")\n",
    "g_bottom_right.set_title(\"D) Log-disproportionality of actual number of trials vs. expected\")\n",
    "fig.tight_layout()\n",
    "plt.show()"
   ]
  },
  {
   "cell_type": "markdown",
   "metadata": {},
   "source": [
    "#### Economy level"
   ]
  },
  {
   "cell_type": "code",
   "execution_count": null,
   "metadata": {},
   "outputs": [],
   "source": [
    "fig, axes = plt.subplots(2, 2, figsize=(14, 10))\n",
    "\n",
    "g_top_left = visualization.plot_heatmap_per_phase(\n",
    "    trial_data=consolidated_counts_per_phase[\"consolidated_economy_level\"],\n",
    "    index_column_name=\"consolidated_economy_level\",\n",
    "    value_column_name=\"n_trials\",\n",
    "    annotation_format=\"g\",\n",
    "    phase_column_name=\"phase\",\n",
    "    cbar=False,\n",
    "    ax=axes[0][0],\n",
    ")\n",
    "g_top_right = visualization.plot_heatmap_per_phase(\n",
    "    trial_data=consolidated_counts_per_phase[\"consolidated_economy_level\"],\n",
    "    index_column_name=\"consolidated_economy_level\",\n",
    "    value_column_name=\"n_trials_expected\",\n",
    "    annotation_format=\".2f\",\n",
    "    phase_column_name=\"phase\",\n",
    "    cbar=False,\n",
    "    ax=axes[0][1],\n",
    ")\n",
    "\n",
    "g_bottom_left = visualization.plot_heatmap_per_phase(\n",
    "    trial_data=consolidated_counts_per_phase[\"consolidated_economy_level\"],\n",
    "    index_column_name=\"consolidated_economy_level\",\n",
    "    value_column_name=\"factor_deviation_n_trials_from_expected\",\n",
    "    annotation_format=\".2f\",\n",
    "    phase_column_name=\"phase\",\n",
    "    linear_diverging=True,\n",
    "    cbar=False,\n",
    "    ax=axes[1][0],\n",
    ")\n",
    "g_bottom_right = visualization.plot_heatmap_per_phase(\n",
    "    trial_data=consolidated_counts_per_phase[\"consolidated_economy_level\"],\n",
    "    index_column_name=\"consolidated_economy_level\",\n",
    "    value_column_name=\"factor_deviation_n_trials_from_expected\",\n",
    "    annotation_format=\".2f\",\n",
    "    phase_column_name=\"phase\",\n",
    "    log_scaled=True,\n",
    "    cbar=False,\n",
    "    ax=axes[1][1],\n",
    ")\n",
    "\n",
    "g_top_left.set_title(\"A) Number of trials with at least one site in given development region\")\n",
    "g_top_right.set_title(\"B) Expected number of trials with at least one site in a given development region\")\n",
    "g_bottom_left.set_title(\"C) Disproportionality of actual number of trials vs. expected\")\n",
    "g_bottom_right.set_title(\"D) Log-disproportionality of actual number of trials vs. expected\")\n",
    "fig.tight_layout()\n",
    "plt.show()"
   ]
  },
  {
   "cell_type": "markdown",
   "metadata": {},
   "source": [
    "#### Income level"
   ]
  },
  {
   "cell_type": "code",
   "execution_count": null,
   "metadata": {},
   "outputs": [],
   "source": [
    "fig, axes = plt.subplots(2, 2, figsize=(14, 10))\n",
    "\n",
    "g_top_left = visualization.plot_heatmap_per_phase(\n",
    "    trial_data=consolidated_counts_per_phase[\"consolidated_income_group\"],\n",
    "    index_column_name=\"consolidated_income_group\",\n",
    "    value_column_name=\"n_trials\",\n",
    "    annotation_format=\"g\",\n",
    "    phase_column_name=\"phase\",\n",
    "    cbar=False,\n",
    "    ax=axes[0][0],\n",
    ")\n",
    "g_top_right = visualization.plot_heatmap_per_phase(\n",
    "    trial_data=consolidated_counts_per_phase[\"consolidated_income_group\"],\n",
    "    index_column_name=\"consolidated_income_group\",\n",
    "    value_column_name=\"n_trials_expected\",\n",
    "    annotation_format=\".2f\",\n",
    "    phase_column_name=\"phase\",\n",
    "    cbar=False,\n",
    "    ax=axes[0][1],\n",
    ")\n",
    "\n",
    "g_bottom_left = visualization.plot_heatmap_per_phase(\n",
    "    trial_data=consolidated_counts_per_phase[\"consolidated_income_group\"],\n",
    "    index_column_name=\"consolidated_income_group\",\n",
    "    value_column_name=\"factor_deviation_n_trials_from_expected\",\n",
    "    annotation_format=\".2f\",\n",
    "    phase_column_name=\"phase\",\n",
    "    linear_diverging=True,\n",
    "    cbar=False,\n",
    "    ax=axes[1][0],\n",
    ")\n",
    "g_bottom_right = visualization.plot_heatmap_per_phase(\n",
    "    trial_data=consolidated_counts_per_phase[\"consolidated_income_group\"],\n",
    "    index_column_name=\"consolidated_income_group\",\n",
    "    value_column_name=\"factor_deviation_n_trials_from_expected\",\n",
    "    annotation_format=\".2f\",\n",
    "    phase_column_name=\"phase\",\n",
    "    log_scaled=True,\n",
    "    cbar=False,\n",
    "    ax=axes[1][1],\n",
    ")\n",
    "\n",
    "g_top_left.set_title(\"A) Number of trials with at least one site in a given income group\")\n",
    "g_top_right.set_title(\"B) Expected number of trials with at least one site in a given income group\")\n",
    "g_bottom_left.set_title(\"C) Disproportionality of actual number of trials vs. expected\")\n",
    "g_bottom_right.set_title(\"D) Log-disproportionality of actual number of trials vs. expected\")\n",
    "fig.tight_layout()\n",
    "plt.show()"
   ]
  },
  {
   "cell_type": "markdown",
   "metadata": {},
   "source": [
    "#### Human Development Index"
   ]
  },
  {
   "cell_type": "code",
   "execution_count": null,
   "metadata": {},
   "outputs": [],
   "source": [
    "fig, axes = plt.subplots(2, 2, figsize=(14, 10))\n",
    "\n",
    "g_top_left = visualization.plot_heatmap_per_phase(\n",
    "    trial_data=consolidated_counts_per_phase[\"hdi_category\"],\n",
    "    index_column_name=\"hdi_category\",\n",
    "    value_column_name=\"n_trials\",\n",
    "    annotation_format=\"g\",\n",
    "    phase_column_name=\"phase\",\n",
    "    cbar=False,\n",
    "    ax=axes[0][0],\n",
    ")\n",
    "g_top_right = visualization.plot_heatmap_per_phase(\n",
    "    trial_data=consolidated_counts_per_phase[\"hdi_category\"],\n",
    "    index_column_name=\"hdi_category\",\n",
    "    value_column_name=\"n_trials_expected\",\n",
    "    annotation_format=\".2f\",\n",
    "    phase_column_name=\"phase\",\n",
    "    cbar=False,\n",
    "    ax=axes[0][1],\n",
    ")\n",
    "\n",
    "g_bottom_left = visualization.plot_heatmap_per_phase(\n",
    "    trial_data=consolidated_counts_per_phase[\"hdi_category\"],\n",
    "    index_column_name=\"hdi_category\",\n",
    "    value_column_name=\"factor_deviation_n_trials_from_expected\",\n",
    "    annotation_format=\".2f\",\n",
    "    phase_column_name=\"phase\",\n",
    "    linear_diverging=True,\n",
    "    cbar=False,\n",
    "    ax=axes[1][0],\n",
    ")\n",
    "g_bottom_right = visualization.plot_heatmap_per_phase(\n",
    "    trial_data=consolidated_counts_per_phase[\"hdi_category\"],\n",
    "    index_column_name=\"hdi_category\",\n",
    "    value_column_name=\"factor_deviation_n_trials_from_expected\",\n",
    "    annotation_format=\".2f\",\n",
    "    phase_column_name=\"phase\",\n",
    "    log_scaled=True,\n",
    "    cbar=False,\n",
    "    ax=axes[1][1],\n",
    ")\n",
    "\n",
    "g_top_left.set_title(\"A) Number of trials with at least one site in a given HDI category\")\n",
    "g_top_right.set_title(\"B) Expected number of trials with at least one site in a given HDI category\")\n",
    "g_bottom_left.set_title(\"C) Disproportionality of actual number of trials vs. expected\")\n",
    "g_bottom_right.set_title(\"D) Log-disproportionality of actual number of trials vs. expected\")\n",
    "fig.tight_layout()\n",
    "plt.show()"
   ]
  },
  {
   "cell_type": "markdown",
   "metadata": {},
   "source": [
    "### Trials per capita"
   ]
  },
  {
   "cell_type": "markdown",
   "metadata": {},
   "source": [
    "#### Continent level"
   ]
  },
  {
   "cell_type": "code",
   "execution_count": null,
   "metadata": {},
   "outputs": [],
   "source": [
    "fig, axes = plt.subplots(1, 2, figsize=(14, 6))\n",
    "\n",
    "g_left = visualization.plot_heatmap_per_phase(\n",
    "    trial_data=consolidated_counts_per_phase[\"country_continent\"],\n",
    "    index_column_name=\"country_continent\",\n",
    "    value_column_name=\"trials_per_capita\",\n",
    "    scale_factor=1_000_000,\n",
    "    annotation_format=\".2f\",\n",
    "    phase_column_name=\"phase\",\n",
    "    cbar=False,\n",
    "    ax=axes[0],\n",
    ")\n",
    "g_right = visualization.plot_heatmap_per_phase(\n",
    "    trial_data=consolidated_counts_per_phase[\"country_continent\"],\n",
    "    index_column_name=\"country_continent\",\n",
    "    value_column_name=\"trials_per_capita\",\n",
    "    scale_factor=1_000_000_000,\n",
    "    annotation_format=\".2f\",\n",
    "    phase_column_name=\"phase\",\n",
    "    cbar=False,\n",
    "    ax=axes[1],\n",
    ")\n",
    "g_left.set_title(\"A) Number of trials per million (\" + r\"$10^{6}$\" + \") with at least one site in a given continent\")\n",
    "g_right.set_title(\"B) Number of trials per billion (\" + r\"$10^{9}$\" + \") with at least one site in a given continent\")\n",
    "fig.tight_layout()\n",
    "plt.show()"
   ]
  },
  {
   "cell_type": "markdown",
   "metadata": {},
   "source": [
    "#### Subregion level"
   ]
  },
  {
   "cell_type": "code",
   "execution_count": null,
   "metadata": {},
   "outputs": [],
   "source": [
    "fig, axes = plt.subplots(1, 2, figsize=(14, 6))\n",
    "\n",
    "g_left = visualization.plot_heatmap_per_phase(\n",
    "    trial_data=consolidated_counts_per_phase[\"subregion\"],\n",
    "    index_column_name=\"subregion\",\n",
    "    value_column_name=\"trials_per_capita\",\n",
    "    scale_factor=1_000_000,\n",
    "    annotation_format=\".2f\",\n",
    "    phase_column_name=\"phase\",\n",
    "    cbar=False,\n",
    "    ax=axes[0],\n",
    ")\n",
    "g_right = visualization.plot_heatmap_per_phase(\n",
    "    trial_data=consolidated_counts_per_phase[\"subregion\"],\n",
    "    index_column_name=\"subregion\",\n",
    "    value_column_name=\"trials_per_capita\",\n",
    "    scale_factor=1_000_000_000,\n",
    "    annotation_format=\".2f\",\n",
    "    phase_column_name=\"phase\",\n",
    "    cbar=False,\n",
    "    ax=axes[1],\n",
    ")\n",
    "g_left.set_title(\"A) Number of trials per million (\" + r\"$10^{6}$\" + \") with at least one site in a given region\")\n",
    "g_right.set_title(\"B) Number of trials per billion (\" + r\"$10^{9}$\" + \") with at least one site in a given region\")\n",
    "fig.tight_layout()\n",
    "plt.show()"
   ]
  },
  {
   "cell_type": "markdown",
   "metadata": {},
   "source": [
    "#### Economy level"
   ]
  },
  {
   "cell_type": "code",
   "execution_count": null,
   "metadata": {},
   "outputs": [],
   "source": [
    "fig, axes = plt.subplots(1, 2, figsize=(14, 6))\n",
    "\n",
    "g_left = visualization.plot_heatmap_per_phase(\n",
    "    trial_data=consolidated_counts_per_phase[\"consolidated_economy_level\"],\n",
    "    index_column_name=\"consolidated_economy_level\",\n",
    "    value_column_name=\"trials_per_capita\",\n",
    "    scale_factor=1_000_000,\n",
    "    annotation_format=\".2f\",\n",
    "    phase_column_name=\"phase\",\n",
    "    cbar=False,\n",
    "    ax=axes[0],\n",
    ")\n",
    "g_right = visualization.plot_heatmap_per_phase(\n",
    "    trial_data=consolidated_counts_per_phase[\"consolidated_economy_level\"],\n",
    "    index_column_name=\"consolidated_economy_level\",\n",
    "    value_column_name=\"trials_per_capita\",\n",
    "    scale_factor=1_000_000_000,\n",
    "    annotation_format=\".2f\",\n",
    "    phase_column_name=\"phase\",\n",
    "    cbar=False,\n",
    "    ax=axes[1],\n",
    ")\n",
    "g_left.set_title(\"A) Number of trials per million (\" + r\"$10^{6}$\" + \") with at least one site in a given development region\")\n",
    "g_right.set_title(\"B) Number of trials per billion (\" + r\"$10^{9}$\" + \") with at least one site in a given development region\")\n",
    "fig.tight_layout()\n",
    "plt.show()"
   ]
  },
  {
   "cell_type": "markdown",
   "metadata": {},
   "source": [
    "#### Income group"
   ]
  },
  {
   "cell_type": "code",
   "execution_count": null,
   "metadata": {},
   "outputs": [],
   "source": [
    "fig, axes = plt.subplots(1, 2, figsize=(14, 6))\n",
    "\n",
    "g_left = visualization.plot_heatmap_per_phase(\n",
    "    trial_data=consolidated_counts_per_phase[\"consolidated_income_group\"],\n",
    "    index_column_name=\"consolidated_income_group\",\n",
    "    value_column_name=\"trials_per_capita\",\n",
    "    scale_factor=1_000_000,\n",
    "    annotation_format=\".2f\",\n",
    "    phase_column_name=\"phase\",\n",
    "    cbar=False,\n",
    "    ax=axes[0],\n",
    ")\n",
    "g_right = visualization.plot_heatmap_per_phase(\n",
    "    trial_data=consolidated_counts_per_phase[\"consolidated_income_group\"],\n",
    "    index_column_name=\"consolidated_income_group\",\n",
    "    value_column_name=\"trials_per_capita\",\n",
    "    scale_factor=1_000_000_000,\n",
    "    annotation_format=\".2f\",\n",
    "    phase_column_name=\"phase\",\n",
    "    cbar=False,\n",
    "    ax=axes[1],\n",
    ")\n",
    "g_left.set_title(\"A) Number of trials per million (\" + r\"$10^{6}$\" + \") with at least one site in a given income group\")\n",
    "g_right.set_title(\"B) Number of trials per billion (\" + r\"$10^{9}$\" + \") with at least one site in a given income group\")\n",
    "fig.tight_layout()\n",
    "plt.show()"
   ]
  },
  {
   "cell_type": "markdown",
   "metadata": {},
   "source": [
    "#### HDI category"
   ]
  },
  {
   "cell_type": "code",
   "execution_count": null,
   "metadata": {},
   "outputs": [],
   "source": [
    "fig, axes = plt.subplots(1, 2, figsize=(14, 6))\n",
    "\n",
    "g_left = visualization.plot_heatmap_per_phase(\n",
    "    trial_data=consolidated_counts_per_phase[\"hdi_category\"],\n",
    "    index_column_name=\"hdi_category\",\n",
    "    value_column_name=\"trials_per_capita\",\n",
    "    scale_factor=1_000_000,\n",
    "    annotation_format=\".2f\",\n",
    "    phase_column_name=\"phase\",\n",
    "    cbar=False,\n",
    "    ax=axes[0],\n",
    ")\n",
    "g_right = visualization.plot_heatmap_per_phase(\n",
    "    trial_data=consolidated_counts_per_phase[\"hdi_category\"],\n",
    "    index_column_name=\"hdi_category\",\n",
    "    value_column_name=\"trials_per_capita\",\n",
    "    scale_factor=1_000_000_000,\n",
    "    annotation_format=\".2f\",\n",
    "    phase_column_name=\"phase\",\n",
    "    cbar=False,\n",
    "    ax=axes[1],\n",
    ")\n",
    "g_left.set_title(\"A) Number of trials per million (\" + r\"$10^{6}$\" + \") with at least one site in a given HDI category\")\n",
    "g_right.set_title(\"B) Number of trials per billion (\" + r\"$10^{9}$\" + \") with at least one site in a given HDI category\")\n",
    "fig.tight_layout()\n",
    "plt.show()"
   ]
  },
  {
   "cell_type": "markdown",
   "metadata": {},
   "source": [
    "## Heatmaps for trial sites"
   ]
  },
  {
   "cell_type": "markdown",
   "metadata": {},
   "source": [
    "### Site counts"
   ]
  },
  {
   "cell_type": "code",
   "execution_count": null,
   "metadata": {},
   "outputs": [],
   "source": [
    "list(consolidated_counts_per_phase[\"country_ISO\"].columns)"
   ]
  },
  {
   "cell_type": "markdown",
   "metadata": {},
   "source": [
    "#### Continent level"
   ]
  },
  {
   "cell_type": "code",
   "execution_count": null,
   "metadata": {},
   "outputs": [],
   "source": [
    "fig, axes = plt.subplots(1, 2, figsize=(14, 6))\n",
    "\n",
    "g_left = visualization.plot_heatmap_per_phase(\n",
    "    trial_data=consolidated_counts_per_phase[\"country_continent\"],\n",
    "    index_column_name=\"country_continent\",\n",
    "    value_column_name=\"n_sites\",\n",
    "    annotation_format=\"g\",\n",
    "    phase_column_name=\"phase\",\n",
    "    cbar=False,\n",
    "    ax=axes[0],\n",
    ")\n",
    "g_right = visualization.plot_heatmap_per_phase(\n",
    "    trial_data=consolidated_counts_per_phase[\"country_continent\"],\n",
    "    index_column_name=\"country_continent\",\n",
    "    value_column_name=\"of_total_sites_phase\",\n",
    "    annotation_format=\".2%\",\n",
    "    phase_column_name=\"phase\",\n",
    "    cbar=False,\n",
    "    ax=axes[1],\n",
    ")\n",
    "g_left.set_title(\"A) Number of trial sites per continent\")\n",
    "g_right.set_title(\"B) Distribution of trial sites\")\n",
    "fig.tight_layout()\n",
    "plt.show()"
   ]
  },
  {
   "cell_type": "markdown",
   "metadata": {},
   "source": [
    "#### Subregion level"
   ]
  },
  {
   "cell_type": "code",
   "execution_count": null,
   "metadata": {},
   "outputs": [],
   "source": [
    "fig, axes = plt.subplots(1, 2, figsize=(14, 6))\n",
    "\n",
    "g_left = visualization.plot_heatmap_per_phase(\n",
    "    trial_data=consolidated_counts_per_phase[\"subregion\"],\n",
    "    index_column_name=\"subregion\",\n",
    "    value_column_name=\"n_sites\",\n",
    "    annotation_format=\"g\",\n",
    "    phase_column_name=\"phase\",\n",
    "    cbar=False,\n",
    "    ax=axes[0],\n",
    ")\n",
    "g_right = visualization.plot_heatmap_per_phase(\n",
    "    trial_data=consolidated_counts_per_phase[\"subregion\"],\n",
    "    index_column_name=\"subregion\",\n",
    "    value_column_name=\"of_total_sites_phase\",\n",
    "    annotation_format=\".2%\",\n",
    "    phase_column_name=\"phase\",\n",
    "    cbar=False,\n",
    "    ax=axes[1],\n",
    ")\n",
    "g_left.set_title(\"A) Number of trial sites per region\")\n",
    "g_right.set_title(\"B) Distribution of trial sites\")\n",
    "fig.tight_layout()\n",
    "plt.show()"
   ]
  },
  {
   "cell_type": "markdown",
   "metadata": {},
   "source": [
    "#### Economy level"
   ]
  },
  {
   "cell_type": "code",
   "execution_count": null,
   "metadata": {},
   "outputs": [],
   "source": [
    "fig, axes = plt.subplots(1, 2, figsize=(14, 6))\n",
    "\n",
    "g_left = visualization.plot_heatmap_per_phase(\n",
    "    trial_data=consolidated_counts_per_phase[\"consolidated_economy_level\"],\n",
    "    index_column_name=\"consolidated_economy_level\",\n",
    "    value_column_name=\"n_sites\",\n",
    "    annotation_format=\"g\",\n",
    "    phase_column_name=\"phase\",\n",
    "    cbar=False,\n",
    "    ax=axes[0],\n",
    ")\n",
    "g_right = visualization.plot_heatmap_per_phase(\n",
    "    trial_data=consolidated_counts_per_phase[\"consolidated_economy_level\"],\n",
    "    index_column_name=\"consolidated_economy_level\",\n",
    "    value_column_name=\"of_total_sites_phase\",\n",
    "    annotation_format=\".2%\",\n",
    "    phase_column_name=\"phase\",\n",
    "    cbar=False,\n",
    "    ax=axes[1],\n",
    ")\n",
    "g_left.set_title(\"A) Number of trial sites per development region\")\n",
    "g_right.set_title(\"B) Distribution of trial sites\")\n",
    "fig.tight_layout()\n",
    "plt.show()"
   ]
  },
  {
   "cell_type": "markdown",
   "metadata": {},
   "source": [
    "#### Income level"
   ]
  },
  {
   "cell_type": "code",
   "execution_count": null,
   "metadata": {},
   "outputs": [],
   "source": [
    "fig, axes = plt.subplots(1, 2, figsize=(14, 6))\n",
    "\n",
    "g_left = visualization.plot_heatmap_per_phase(\n",
    "    trial_data=consolidated_counts_per_phase[\"consolidated_income_group\"],\n",
    "    index_column_name=\"consolidated_income_group\",\n",
    "    value_column_name=\"n_sites\",\n",
    "    annotation_format=\"g\",\n",
    "    phase_column_name=\"phase\",\n",
    "    cbar=False,\n",
    "    ax=axes[0],\n",
    ")\n",
    "g_right = visualization.plot_heatmap_per_phase(\n",
    "    trial_data=consolidated_counts_per_phase[\"consolidated_income_group\"],\n",
    "    index_column_name=\"consolidated_income_group\",\n",
    "    value_column_name=\"of_total_sites_phase\",\n",
    "    annotation_format=\".2%\",\n",
    "    phase_column_name=\"phase\",\n",
    "    cbar=False,\n",
    "    ax=axes[1],\n",
    ")\n",
    "g_left.set_title(\"A) Number of trial sites per income class\")\n",
    "g_right.set_title(\"B) Distribution of trial sites\")\n",
    "fig.tight_layout()\n",
    "plt.show()"
   ]
  },
  {
   "cell_type": "markdown",
   "metadata": {},
   "source": [
    "#### Human Development Index"
   ]
  },
  {
   "cell_type": "code",
   "execution_count": null,
   "metadata": {},
   "outputs": [],
   "source": [
    "fig, axes = plt.subplots(1, 2, figsize=(14, 6))\n",
    "\n",
    "g_left = visualization.plot_heatmap_per_phase(\n",
    "    trial_data=consolidated_counts_per_phase[\"hdi_category\"],\n",
    "    index_column_name=\"hdi_category\",\n",
    "    value_column_name=\"n_sites\",\n",
    "    annotation_format=\"g\",\n",
    "    phase_column_name=\"phase\",\n",
    "    cbar=False,\n",
    "    ax=axes[0],\n",
    ")\n",
    "g_right = visualization.plot_heatmap_per_phase(\n",
    "    trial_data=consolidated_counts_per_phase[\"hdi_category\"],\n",
    "    index_column_name=\"hdi_category\",\n",
    "    value_column_name=\"of_total_sites_phase\",\n",
    "    annotation_format=\".2%\",\n",
    "    phase_column_name=\"phase\",\n",
    "    cbar=False,\n",
    "    ax=axes[1],\n",
    ")\n",
    "g_left.set_title(\"A) Number of trial sites per HDI category\")\n",
    "g_right.set_title(\"B) Distribution of trial sites\")\n",
    "fig.tight_layout()\n",
    "plt.show()"
   ]
  },
  {
   "cell_type": "markdown",
   "metadata": {},
   "source": [
    "### Trial sites, expected trial sites, and deviation"
   ]
  },
  {
   "cell_type": "markdown",
   "metadata": {},
   "source": [
    "#### Continent"
   ]
  },
  {
   "cell_type": "code",
   "execution_count": null,
   "metadata": {},
   "outputs": [],
   "source": [
    "fig, axes = plt.subplots(2, 2, figsize=(14, 10))\n",
    "\n",
    "g_top_left = visualization.plot_heatmap_per_phase(\n",
    "    trial_data=consolidated_counts_per_phase[\"country_continent\"],\n",
    "    index_column_name=\"country_continent\",\n",
    "    value_column_name=\"n_sites\",\n",
    "    annotation_format=\"g\",\n",
    "    phase_column_name=\"phase\",\n",
    "    cbar=False,\n",
    "    ax=axes[0][0],\n",
    ")\n",
    "g_top_right = visualization.plot_heatmap_per_phase(\n",
    "    trial_data=consolidated_counts_per_phase[\"country_continent\"],\n",
    "    index_column_name=\"country_continent\",\n",
    "    value_column_name=\"n_sites_expected\",\n",
    "    annotation_format=\".2f\",\n",
    "    phase_column_name=\"phase\",\n",
    "    cbar=False,\n",
    "    ax=axes[0][1],\n",
    ")\n",
    "\n",
    "g_bottom_left = visualization.plot_heatmap_per_phase(\n",
    "    trial_data=consolidated_counts_per_phase[\"country_continent\"],\n",
    "    index_column_name=\"country_continent\",\n",
    "    value_column_name=\"factor_deviation_n_sites_from_expected\",\n",
    "    annotation_format=\".2f\",\n",
    "    phase_column_name=\"phase\",\n",
    "    linear_diverging=True,\n",
    "    cbar=False,\n",
    "    ax=axes[1][0],\n",
    ")\n",
    "g_bottom_right = visualization.plot_heatmap_per_phase(\n",
    "    trial_data=consolidated_counts_per_phase[\"country_continent\"],\n",
    "    index_column_name=\"country_continent\",\n",
    "    value_column_name=\"factor_deviation_n_sites_from_expected\",\n",
    "    annotation_format=\".2f\",\n",
    "    phase_column_name=\"phase\",\n",
    "    log_scaled=True,\n",
    "    cbar=False,\n",
    "    ax=axes[1][1],\n",
    ")\n",
    "\n",
    "g_top_left.set_title(\"A) Number of trial sites per continent\")\n",
    "g_top_right.set_title(\"B) Expected number of trial sites per continent\")\n",
    "g_bottom_left.set_title(\"C) Disproportionality of actual number of trial sites vs. expected\")\n",
    "g_bottom_right.set_title(\"D) Log-disproportionality of actual number of trial sites vs. expected\")\n",
    "fig.tight_layout()\n",
    "plt.show()"
   ]
  },
  {
   "cell_type": "markdown",
   "metadata": {},
   "source": [
    "#### Subregion level"
   ]
  },
  {
   "cell_type": "code",
   "execution_count": null,
   "metadata": {},
   "outputs": [],
   "source": [
    "fig, axes = plt.subplots(2, 2, figsize=(14, 10))\n",
    "\n",
    "g_top_left = visualization.plot_heatmap_per_phase(\n",
    "    trial_data=consolidated_counts_per_phase[\"subregion\"],\n",
    "    index_column_name=\"subregion\",\n",
    "    value_column_name=\"n_sites\",\n",
    "    annotation_format=\"g\",\n",
    "    phase_column_name=\"phase\",\n",
    "    cbar=False,\n",
    "    ax=axes[0][0],\n",
    ")\n",
    "g_top_right = visualization.plot_heatmap_per_phase(\n",
    "    trial_data=consolidated_counts_per_phase[\"subregion\"],\n",
    "    index_column_name=\"subregion\",\n",
    "    value_column_name=\"n_sites_expected\",\n",
    "    annotation_format=\".2f\",\n",
    "    phase_column_name=\"phase\",\n",
    "    cbar=False,\n",
    "    ax=axes[0][1],\n",
    ")\n",
    "\n",
    "g_bottom_left = visualization.plot_heatmap_per_phase(\n",
    "    trial_data=consolidated_counts_per_phase[\"subregion\"],\n",
    "    index_column_name=\"subregion\",\n",
    "    value_column_name=\"factor_deviation_n_sites_from_expected\",\n",
    "    annotation_format=\".2f\",\n",
    "    phase_column_name=\"phase\",\n",
    "    linear_diverging=True,\n",
    "    cbar=False,\n",
    "    ax=axes[1][0],\n",
    ")\n",
    "g_bottom_right = visualization.plot_heatmap_per_phase(\n",
    "    trial_data=consolidated_counts_per_phase[\"subregion\"],\n",
    "    index_column_name=\"subregion\",\n",
    "    value_column_name=\"factor_deviation_n_sites_from_expected\",\n",
    "    annotation_format=\".2f\",\n",
    "    phase_column_name=\"phase\",\n",
    "    log_scaled=True,\n",
    "    cbar=False,\n",
    "    ax=axes[1][1],\n",
    ")\n",
    "\n",
    "g_top_left.set_title(\"A) Number of trial sites per region\")\n",
    "g_top_right.set_title(\"B) Expected number of trial sites per region\")\n",
    "g_bottom_left.set_title(\"C) Disproportionality of actual number of trial sites vs. expected\")\n",
    "g_bottom_right.set_title(\"D) Log-disproportionality of actual number of trial sites vs. expected\")\n",
    "fig.tight_layout()\n",
    "plt.show()"
   ]
  },
  {
   "cell_type": "markdown",
   "metadata": {},
   "source": [
    "#### Economy level"
   ]
  },
  {
   "cell_type": "code",
   "execution_count": null,
   "metadata": {},
   "outputs": [],
   "source": [
    "fig, axes = plt.subplots(2, 2, figsize=(14, 10))\n",
    "\n",
    "g_top_left = visualization.plot_heatmap_per_phase(\n",
    "    trial_data=consolidated_counts_per_phase[\"consolidated_economy_level\"],\n",
    "    index_column_name=\"consolidated_economy_level\",\n",
    "    value_column_name=\"n_sites\",\n",
    "    annotation_format=\"g\",\n",
    "    phase_column_name=\"phase\",\n",
    "    cbar=False,\n",
    "    ax=axes[0][0],\n",
    ")\n",
    "g_top_right = visualization.plot_heatmap_per_phase(\n",
    "    trial_data=consolidated_counts_per_phase[\"consolidated_economy_level\"],\n",
    "    index_column_name=\"consolidated_economy_level\",\n",
    "    value_column_name=\"n_sites_expected\",\n",
    "    annotation_format=\".2f\",\n",
    "    phase_column_name=\"phase\",\n",
    "    cbar=False,\n",
    "    ax=axes[0][1],\n",
    ")\n",
    "\n",
    "g_bottom_left = visualization.plot_heatmap_per_phase(\n",
    "    trial_data=consolidated_counts_per_phase[\"consolidated_economy_level\"],\n",
    "    index_column_name=\"consolidated_economy_level\",\n",
    "    value_column_name=\"factor_deviation_n_sites_from_expected\",\n",
    "    annotation_format=\".2f\",\n",
    "    phase_column_name=\"phase\",\n",
    "    linear_diverging=True,\n",
    "    cbar=False,\n",
    "    ax=axes[1][0],\n",
    ")\n",
    "g_bottom_right = visualization.plot_heatmap_per_phase(\n",
    "    trial_data=consolidated_counts_per_phase[\"consolidated_economy_level\"],\n",
    "    index_column_name=\"consolidated_economy_level\",\n",
    "    value_column_name=\"factor_deviation_n_sites_from_expected\",\n",
    "    annotation_format=\".2f\",\n",
    "    phase_column_name=\"phase\",\n",
    "    log_scaled=True,\n",
    "    cbar=False,\n",
    "    ax=axes[1][1],\n",
    ")\n",
    "\n",
    "g_top_left.set_title(\"A) Number of trial sites per development region\")\n",
    "g_top_right.set_title(\"B) Expected number of trial sites per development region\")\n",
    "g_bottom_left.set_title(\"C) Disproportionality of actual number of trial sites vs. expected\")\n",
    "g_bottom_right.set_title(\"D) Log-disproportionality of actual number of trial sites vs. expected\")\n",
    "fig.tight_layout()\n",
    "plt.show()"
   ]
  },
  {
   "cell_type": "markdown",
   "metadata": {},
   "source": [
    "#### Income level"
   ]
  },
  {
   "cell_type": "code",
   "execution_count": null,
   "metadata": {},
   "outputs": [],
   "source": [
    "fig, axes = plt.subplots(2, 2, figsize=(14, 10))\n",
    "\n",
    "g_top_left = visualization.plot_heatmap_per_phase(\n",
    "    trial_data=consolidated_counts_per_phase[\"consolidated_income_group\"],\n",
    "    index_column_name=\"consolidated_income_group\",\n",
    "    value_column_name=\"n_sites\",\n",
    "    annotation_format=\"g\",\n",
    "    phase_column_name=\"phase\",\n",
    "    cbar=False,\n",
    "    ax=axes[0][0],\n",
    ")\n",
    "g_top_right = visualization.plot_heatmap_per_phase(\n",
    "    trial_data=consolidated_counts_per_phase[\"consolidated_income_group\"],\n",
    "    index_column_name=\"consolidated_income_group\",\n",
    "    value_column_name=\"n_sites_expected\",\n",
    "    annotation_format=\".2f\",\n",
    "    phase_column_name=\"phase\",\n",
    "    cbar=False,\n",
    "    ax=axes[0][1],\n",
    ")\n",
    "\n",
    "g_bottom_left = visualization.plot_heatmap_per_phase(\n",
    "    trial_data=consolidated_counts_per_phase[\"consolidated_income_group\"],\n",
    "    index_column_name=\"consolidated_income_group\",\n",
    "    value_column_name=\"factor_deviation_n_sites_from_expected\",\n",
    "    annotation_format=\".2f\",\n",
    "    phase_column_name=\"phase\",\n",
    "    linear_diverging=True,\n",
    "    cbar=False,\n",
    "    ax=axes[1][0],\n",
    ")\n",
    "g_bottom_right = visualization.plot_heatmap_per_phase(\n",
    "    trial_data=consolidated_counts_per_phase[\"consolidated_income_group\"],\n",
    "    index_column_name=\"consolidated_income_group\",\n",
    "    value_column_name=\"factor_deviation_n_sites_from_expected\",\n",
    "    annotation_format=\".2f\",\n",
    "    phase_column_name=\"phase\",\n",
    "    log_scaled=True,\n",
    "    cbar=False,\n",
    "    ax=axes[1][1],\n",
    ")\n",
    "\n",
    "g_top_left.set_title(\"A) Number of trial sites per income group\")\n",
    "g_top_right.set_title(\"B) Expected number of trial sites per income group\")\n",
    "g_bottom_left.set_title(\"C) Disproportionality of actual number of trial sites vs. expected\")\n",
    "g_bottom_right.set_title(\"D) Log-disproportionality of actual number of trial sites vs. expected\")\n",
    "fig.tight_layout()\n",
    "plt.show()"
   ]
  },
  {
   "cell_type": "markdown",
   "metadata": {},
   "source": [
    "#### Human Development Index"
   ]
  },
  {
   "cell_type": "code",
   "execution_count": null,
   "metadata": {},
   "outputs": [],
   "source": [
    "fig, axes = plt.subplots(2, 2, figsize=(14, 10))\n",
    "\n",
    "g_top_left = visualization.plot_heatmap_per_phase(\n",
    "    trial_data=consolidated_counts_per_phase[\"hdi_category\"],\n",
    "    index_column_name=\"hdi_category\",\n",
    "    value_column_name=\"n_sites\",\n",
    "    annotation_format=\"g\",\n",
    "    phase_column_name=\"phase\",\n",
    "    cbar=False,\n",
    "    ax=axes[0][0],\n",
    ")\n",
    "g_top_right = visualization.plot_heatmap_per_phase(\n",
    "    trial_data=consolidated_counts_per_phase[\"hdi_category\"],\n",
    "    index_column_name=\"hdi_category\",\n",
    "    value_column_name=\"n_sites_expected\",\n",
    "    annotation_format=\".2f\",\n",
    "    phase_column_name=\"phase\",\n",
    "    cbar=False,\n",
    "    ax=axes[0][1],\n",
    ")\n",
    "\n",
    "g_bottom_left = visualization.plot_heatmap_per_phase(\n",
    "    trial_data=consolidated_counts_per_phase[\"hdi_category\"],\n",
    "    index_column_name=\"hdi_category\",\n",
    "    value_column_name=\"factor_deviation_n_sites_from_expected\",\n",
    "    annotation_format=\".2f\",\n",
    "    phase_column_name=\"phase\",\n",
    "    linear_diverging=True,\n",
    "    cbar=False,\n",
    "    ax=axes[1][0],\n",
    ")\n",
    "g_bottom_right = visualization.plot_heatmap_per_phase(\n",
    "    trial_data=consolidated_counts_per_phase[\"hdi_category\"],\n",
    "    index_column_name=\"hdi_category\",\n",
    "    value_column_name=\"factor_deviation_n_sites_from_expected\",\n",
    "    annotation_format=\".2f\",\n",
    "    phase_column_name=\"phase\",\n",
    "    log_scaled=True,\n",
    "    cbar=False,\n",
    "    ax=axes[1][1],\n",
    ")\n",
    "\n",
    "g_top_left.set_title(\"A) Number of trial sites per HDI category\")\n",
    "g_top_right.set_title(\"B) Expected number of trial sites per HDI category\")\n",
    "g_bottom_left.set_title(\"C) Disproportionality of actual number of trial sites vs. expected\")\n",
    "g_bottom_right.set_title(\"D) Log-disproportionality of actual number of trial sites vs. expected\")\n",
    "fig.tight_layout()\n",
    "plt.show()"
   ]
  },
  {
   "cell_type": "markdown",
   "metadata": {},
   "source": [
    "### Trials per capita"
   ]
  },
  {
   "cell_type": "markdown",
   "metadata": {},
   "source": [
    "#### Continent level"
   ]
  },
  {
   "cell_type": "code",
   "execution_count": null,
   "metadata": {},
   "outputs": [],
   "source": [
    "fig, axes = plt.subplots(1, 2, figsize=(14, 6))\n",
    "\n",
    "g_left = visualization.plot_heatmap_per_phase(\n",
    "    trial_data=consolidated_counts_per_phase[\"country_continent\"],\n",
    "    index_column_name=\"country_continent\",\n",
    "    value_column_name=\"sites_per_capita\",\n",
    "    scale_factor=1_000_000,\n",
    "    annotation_format=\".2f\",\n",
    "    phase_column_name=\"phase\",\n",
    "    cbar=False,\n",
    "    ax=axes[0],\n",
    ")\n",
    "g_right = visualization.plot_heatmap_per_phase(\n",
    "    trial_data=consolidated_counts_per_phase[\"country_continent\"],\n",
    "    index_column_name=\"country_continent\",\n",
    "    value_column_name=\"sites_per_capita\",\n",
    "    scale_factor=1_000_000_000,\n",
    "    annotation_format=\".2f\",\n",
    "    phase_column_name=\"phase\",\n",
    "    cbar=False,\n",
    "    ax=axes[1],\n",
    ")\n",
    "g_left.set_title(\"A) Number of trial sites per million (\" + r\"$10^{6}$\" + \")\")\n",
    "g_right.set_title(\"B) Number of trial sites per billion (\" + r\"$10^{9}$\" + \")\")\n",
    "fig.tight_layout()\n",
    "plt.show()"
   ]
  },
  {
   "cell_type": "markdown",
   "metadata": {},
   "source": [
    "#### Subregion level"
   ]
  },
  {
   "cell_type": "code",
   "execution_count": null,
   "metadata": {},
   "outputs": [],
   "source": [
    "fig, axes = plt.subplots(1, 2, figsize=(14, 6))\n",
    "\n",
    "g_left = visualization.plot_heatmap_per_phase(\n",
    "    trial_data=consolidated_counts_per_phase[\"subregion\"],\n",
    "    index_column_name=\"subregion\",\n",
    "    value_column_name=\"sites_per_capita\",\n",
    "    scale_factor=1_000_000,\n",
    "    annotation_format=\".2f\",\n",
    "    phase_column_name=\"phase\",\n",
    "    cbar=False,\n",
    "    ax=axes[0],\n",
    ")\n",
    "g_right = visualization.plot_heatmap_per_phase(\n",
    "    trial_data=consolidated_counts_per_phase[\"subregion\"],\n",
    "    index_column_name=\"subregion\",\n",
    "    value_column_name=\"sites_per_capita\",\n",
    "    scale_factor=1_000_000_000,\n",
    "    annotation_format=\".2f\",\n",
    "    phase_column_name=\"phase\",\n",
    "    cbar=False,\n",
    "    ax=axes[1],\n",
    ")\n",
    "g_left.set_title(\"A) Number of trial sites per million (\" + r\"$10^{6}$\" + \")\")\n",
    "g_right.set_title(\"B) Number of trial sites per billion (\" + r\"$10^{9}$\" + \")\")\n",
    "fig.tight_layout()\n",
    "plt.show()"
   ]
  },
  {
   "cell_type": "markdown",
   "metadata": {},
   "source": [
    "#### Economy level"
   ]
  },
  {
   "cell_type": "code",
   "execution_count": null,
   "metadata": {},
   "outputs": [],
   "source": [
    "fig, axes = plt.subplots(1, 2, figsize=(14, 6))\n",
    "\n",
    "g_left = visualization.plot_heatmap_per_phase(\n",
    "    trial_data=consolidated_counts_per_phase[\"consolidated_economy_level\"],\n",
    "    index_column_name=\"consolidated_economy_level\",\n",
    "    value_column_name=\"sites_per_capita\",\n",
    "    scale_factor=1_000_000,\n",
    "    annotation_format=\".2f\",\n",
    "    phase_column_name=\"phase\",\n",
    "    cbar=False,\n",
    "    ax=axes[0],\n",
    ")\n",
    "g_right = visualization.plot_heatmap_per_phase(\n",
    "    trial_data=consolidated_counts_per_phase[\"consolidated_economy_level\"],\n",
    "    index_column_name=\"consolidated_economy_level\",\n",
    "    value_column_name=\"sites_per_capita\",\n",
    "    scale_factor=1_000_000_000,\n",
    "    annotation_format=\".2f\",\n",
    "    phase_column_name=\"phase\",\n",
    "    cbar=False,\n",
    "    ax=axes[1],\n",
    ")\n",
    "g_left.set_title(\"A) Number of trial sites per million (\" + r\"$10^{6}$\" + \")\")\n",
    "g_right.set_title(\"B) Number of trial sites per billion (\" + r\"$10^{9}$\" + \")\")\n",
    "fig.tight_layout()\n",
    "plt.show()"
   ]
  },
  {
   "cell_type": "markdown",
   "metadata": {},
   "source": [
    "#### Income group"
   ]
  },
  {
   "cell_type": "code",
   "execution_count": null,
   "metadata": {},
   "outputs": [],
   "source": [
    "fig, axes = plt.subplots(1, 2, figsize=(14, 6))\n",
    "\n",
    "g_left = visualization.plot_heatmap_per_phase(\n",
    "    trial_data=consolidated_counts_per_phase[\"consolidated_income_group\"],\n",
    "    index_column_name=\"consolidated_income_group\",\n",
    "    value_column_name=\"sites_per_capita\",\n",
    "    scale_factor=1_000_000,\n",
    "    annotation_format=\".2f\",\n",
    "    phase_column_name=\"phase\",\n",
    "    cbar=False,\n",
    "    ax=axes[0],\n",
    ")\n",
    "g_right = visualization.plot_heatmap_per_phase(\n",
    "    trial_data=consolidated_counts_per_phase[\"consolidated_income_group\"],\n",
    "    index_column_name=\"consolidated_income_group\",\n",
    "    value_column_name=\"sites_per_capita\",\n",
    "    scale_factor=1_000_000_000,\n",
    "    annotation_format=\".2f\",\n",
    "    phase_column_name=\"phase\",\n",
    "    cbar=False,\n",
    "    ax=axes[1],\n",
    ")\n",
    "g_left.set_title(\"A) Number of trial sites per million (\" + r\"$10^{6}$\" + \")\")\n",
    "g_right.set_title(\"B) Number of trial sites per billion (\" + r\"$10^{9}$\" + \")\")\n",
    "fig.tight_layout()\n",
    "plt.show()"
   ]
  },
  {
   "cell_type": "markdown",
   "metadata": {},
   "source": [
    "#### HDI category"
   ]
  },
  {
   "cell_type": "code",
   "execution_count": null,
   "metadata": {},
   "outputs": [],
   "source": [
    "fig, axes = plt.subplots(1, 2, figsize=(14, 6))\n",
    "\n",
    "g_left = visualization.plot_heatmap_per_phase(\n",
    "    trial_data=consolidated_counts_per_phase[\"hdi_category\"],\n",
    "    index_column_name=\"hdi_category\",\n",
    "    value_column_name=\"sites_per_capita\",\n",
    "    scale_factor=1_000_000,\n",
    "    annotation_format=\".2f\",\n",
    "    phase_column_name=\"phase\",\n",
    "    cbar=False,\n",
    "    ax=axes[0],\n",
    ")\n",
    "g_right = visualization.plot_heatmap_per_phase(\n",
    "    trial_data=consolidated_counts_per_phase[\"hdi_category\"],\n",
    "    index_column_name=\"hdi_category\",\n",
    "    value_column_name=\"sites_per_capita\",\n",
    "    scale_factor=1_000_000_000,\n",
    "    annotation_format=\".2f\",\n",
    "    phase_column_name=\"phase\",\n",
    "    cbar=False,\n",
    "    ax=axes[1],\n",
    ")\n",
    "g_left.set_title(\"A) Number of trial sites per million (\" + r\"$10^{6}$\" + \")\")\n",
    "g_right.set_title(\"B) Number of trial sites per billion (\" + r\"$10^{9}$\" + \")\")\n",
    "fig.tight_layout()\n",
    "plt.show()"
   ]
  }
 ],
 "metadata": {
  "kernelspec": {
   "display_name": "geography",
   "language": "python",
   "name": "python3"
  },
  "language_info": {
   "codemirror_mode": {
    "name": "ipython",
    "version": 3
   },
   "file_extension": ".py",
   "mimetype": "text/x-python",
   "name": "python",
   "nbconvert_exporter": "python",
   "pygments_lexer": "ipython3",
   "version": "3.10.9"
  },
  "orig_nbformat": 4
 },
 "nbformat": 4,
 "nbformat_minor": 2
}
